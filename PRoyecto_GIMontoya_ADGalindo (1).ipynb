{
 "cells": [
  {
   "cell_type": "markdown",
   "metadata": {},
   "source": [
    "<img style=\"float: left; margin: 35px 20px 20px 20px;\" src=\"https://pngimage.net/wp-content/uploads/2018/06/logo-iteso-png-5.png\" width=\"300\" height=\"500\" /> \n",
    "    \n",
    "    \n",
    "### <font color='navy'> Simulación de procesos financieros. \n",
    "\n",
    "**Nombres:** Ariadna Galindo y Gabriela Montoya \n",
    "\n",
    "**Fecha:** 20 de octubre del 2020.\n",
    "\n",
    "**Expediente** : 718272 y 715478.\n",
    "\n",
    "**Profesor:** Oscar David Jaramillo Zuluaga.\n",
    "\n",
    "**Repositorio:** https://github.com/ariadnagalindom/Proyecto_GIMontoya_ADGalindo\n",
    "    "
   ]
  },
  {
   "cell_type": "markdown",
   "metadata": {},
   "source": [
    "___\n",
    "## 1. Entregable.\n",
    "\n",
    "### 1.1 Turismo en Jalisco.\n",
    "> A lo largo de este proyecto se simularán viajes posibles \n",
    "\n",
    "### 1.2 Objetivos.\n",
    "> #### 1.1 Generar propuestas de valor para aumentar el turismo en Jalisco\n",
    ">  - Simular diferentes dos perfiles de turistas (nacional e internacional) para Jalisco y en base al perfil más común generar propuestas de valor para promover el turismo.  \n",
    "> #### 1.2 Objetivos específicos\n",
    "> - Determinar la zona con mayor turismo de Jalisco.\n",
    "> - Calcular el turista más común para cada zona.\n",
    "> - Proponer implementaciones para aumentar el turismo en cada zona.\n",
    "\n",
    "### 1.3 Definición del problema.\n",
    "> En el año 2019 se vivieron situaciones normales diferentes a las actuales por la pandemía y uno de los sectores más afectados es el de turismo. Con la reactivación gradual que se está dando de la economía es importante preveer medidas estratégicas para la recuperación de la economía. \n",
    "\n",
    "> Para proponer estrategías primero debemos de enfocarnos a quién van dirigidas y que estas sean lo más acertivas posible. Es por esto que proponemos encontrar el perfil del turista más común en años pasados para las dos zonas más turistícas del estado de Jalisco. \n",
    "\n",
    "> Se va a simular en base a los datos del turismo en Jalisco y sus zona más importantes en el turismo del año pasado. \n",
    "\n",
    "<img src=\"Diagrama2.png\">\n",
    "\n",
    "### 1.4 Nodos y variables que se decidieron simular y porqué\n",
    "> Los nodos a utilizar tienen que ver con características sociológicas de los turistas de Jalisco en el año pasado tales como: \n",
    "> - Foráneo o nacional\n",
    "> - Rango de edad\n",
    "> - Estado civil \n",
    "> - Nivel de educación \n",
    "> - Motivación del viaje\n",
    "\n",
    "### 1.5 Definición de hipótesis y supuestos.\n",
    "**Hipótesis**\n",
    "- $H_o$: Existe correlación entre los turistas nacionales e internaciones\n",
    "- $H_1$: No existe correlación entre las turistas nacionales e internaciones\n",
    "\n",
    "**Suposiciones**\n",
    "- El turismo se mueve igual este año al pasado\n",
    "- Con el perfil más común de turista se puede atraer a más del mismo tipo\n",
    "- Las estrategías para el perfil de turista más común impulsará el turismo \n",
    "\n",
    "### 1.6 Obtención de bases de datos\n",
    "> Los datos necesitados han sido obtenidos de: https://secturjal.jalisco.gob.mx/invierte-en-jalisco/estadisticas\n",
    "> Donde encontramos diferentes datos sobre los turistas que hibieron el 2019 en Jalisco. Hay datos de Turistas nacionales e internacionales. No hay datos sobre los gastos en el viaje, pero hay datos sobre aspectos económicos de los turistas como ingresos mensuales. \n",
    "\n",
    "Para los primeros cuatro nodos podemos verlos en las características sociológicas, mientras que el motivo del viaje lo encontramos dentro de la información respecto al viaje. \n",
    "\n",
    "### 1.7 Variables \n",
    "\n",
    ">**nac_edad:** Porcentaje de distribución de las edades en turistas nacionales seccionado por 15-25, 26-34, 35-44, 45-54, 55-64, 65 y más.\n",
    "\n",
    ">**int_edad:** Porcentaje de distribución de las edades en turistas internacionales seccionado por 15-25, 26-34, 35-44, 45-54, 55-64, 65 y más.\n",
    "\n",
    ">**nac_civil:** Porcentaje de distribución de el estado civil en turistas nacionales seccionado por soltero, casado, unión libre, viudo y divorciado.\n",
    "\n",
    ">**int_civil:** Porcentaje de distribución de el estado civil en turistas internacionales seccionado por soltero, casado, unión libre, viudo y divorciado.\n",
    "\n",
    ">**nac_school:** Porcentaje de distribución del nivel de educación en turistas nacionales seccionado en básico, intermedio, medio superior, superior, posgrado y sin estudios.\n",
    "\n",
    ">**int_school:** Porcentaje de distribución del nivel de educación en turistas nacionales seccionado en básico, intermedio, medio superior, superior, posgrado y sin estudios. \n",
    "\n",
    ">**nac_motiv:** Porcentaje de distribución de motivación de la afluencia turística en turistas nacionales seccionado por compras, de paso, ocio y recreación, profesional o negocios, salud, visitar amigos y familiares, religioso y otro.\n",
    "\n",
    ">**int_motiv:** Porcentaje de distribución de motivación de la afluencia turística en turistas internacionales seccionado por compras, de paso, ocio y recreación, profesional o negocios, salud, visitar amigos y familiares, religioso y otro."
   ]
  },
  {
   "cell_type": "code",
   "execution_count": 1,
   "metadata": {},
   "outputs": [],
   "source": [
    "#librerias\n",
    "import pandas as pd\n",
    "import numpy as np\n",
    "import matplotlib.pyplot as plt\n",
    "import scipy.stats as st\n",
    "import seaborn as sns\n",
    "%matplotlib inline\n",
    "import numpy as np\n",
    "from sklearn.neighbors import KernelDensity\n",
    "from scipy.stats import gaussian_kde\n",
    "from statsmodels.nonparametric.kde import KDEUnivariate\n",
    "from statsmodels.nonparametric.kernel_density import KDEMultivariate\n",
    "from scipy.stats.distributions import norm\n",
    "from sklearn.model_selection import GridSearchCV"
   ]
  },
  {
   "cell_type": "code",
   "execution_count": 2,
   "metadata": {},
   "outputs": [],
   "source": [
    "def plot_histogram_discrete(distribucion:'distribución a graficar histograma',\n",
    "                            xlabel:'x label',\n",
    "                            ylabel: 'y label',\n",
    "                            title: 'title'):\n",
    "    '''Función para graficar el histograma de una distribución discreta'''\n",
    "    plt.figure(figsize=[8,4])\n",
    "    y,x = np.histogram(distribucion,bins = len(set(distribucion))) \n",
    "    plt.bar(list(set(distribucion)),y)\n",
    "    plt.xlabel(xlabel)\n",
    "    plt.ylabel(ylabel)\n",
    "    plt.title(title)\n",
    "    plt.show()"
   ]
  },
  {
   "cell_type": "code",
   "execution_count": 3,
   "metadata": {},
   "outputs": [],
   "source": [
    "def kde_statsmodels_m(x, x_grid, bandwidth=0.2, **kwargs):\n",
    "    \"\"\"Multivariate Kernel Density Estimation with Statsmodels\"\"\"\n",
    "    kde = KDEMultivariate(x, \n",
    "                          bw='cv_ml',  #bandwidth * np.ones_like(x),\n",
    "                          var_type='u', **kwargs)\n",
    "    return kde.pdf(x_grid)\n",
    "def kde_statsmodels_m2(x, bandwidth=0.2):\n",
    "    \"\"\"Multivariate Kernel Density Estimation with Statsmodels\"\"\"\n",
    "    kde = KDEMultivariate(x, \n",
    "                          bw='cv_ml',\n",
    "                          var_type='u')\n",
    "    return lambda x_grid:kde.pdf(x_grid)"
   ]
  },
  {
   "cell_type": "code",
   "execution_count": 4,
   "metadata": {},
   "outputs": [],
   "source": [
    "dist_continu = [d for d in dir(st) if isinstance(getattr(st, d), st.rv_continuous)]\n",
    "dist_to=['alpha',\n",
    " 'anglit',\n",
    " 'arcsine',\n",
    " 'argus',\n",
    " 'beta',\n",
    " 'bradford',\n",
    " 'burr',\n",
    " 'cauchy',\n",
    " 'chi',\n",
    " 'chi2',\n",
    " 'cosine',\n",
    " 'crystalball',\n",
    " 'dgamma',\n",
    " 'dweibull',\n",
    " 'erlang',\n",
    " 'expon',\n",
    " 'exponnorm',\n",
    " 'exponpow',\n",
    " 'exponweib',\n",
    " 'f',\n",
    " 'fisk',\n",
    " 'foldcauchy',\n",
    " 'foldnorm',\n",
    " 'frechet_l',\n",
    " 'frechet_r',\n",
    " 'gamma',\n",
    " 'gausshyper',\n",
    " 'genexpon',\n",
    " 'genextreme',\n",
    " 'gengamma',\n",
    " 'genhalflogistic',\n",
    " 'geninvgauss',\n",
    " 'genlogistic',\n",
    " 'gennorm',\n",
    " 'genpareto',\n",
    " 'gilbrat',\n",
    " 'gompertz',\n",
    " 'gumbel_l',\n",
    " 'gumbel_r',\n",
    " 'halfcauchy',\n",
    " 'halfgennorm',\n",
    " 'halflogistic',\n",
    " 'halfnorm',\n",
    " 'hypsecant',\n",
    " 'invgamma',\n",
    " 'invgauss',\n",
    " 'invweibull',\n",
    " 'johnsonsb',\n",
    " 'johnsonsu',\n",
    " 'kappa3',\n",
    " 'kappa4',\n",
    " 'ksone',\n",
    " 'laplace',\n",
    " 'levy',\n",
    " 'levy_l',\n",
    " 'loggamma',\n",
    " 'logistic',\n",
    " 'loglaplace',\n",
    " 'lognorm',\n",
    " 'loguniform',\n",
    " 'lomax',\n",
    " 'maxwell',\n",
    " 'mielke',\n",
    " 'moyal',\n",
    " 'nakagami',\n",
    " 'ncf',\n",
    " 'nct',\n",
    " 'ncx2',\n",
    " 'norm',\n",
    " 'norminvgauss',\n",
    " 'pareto',\n",
    " 'pearson3',\n",
    " 'powerlaw',\n",
    " 'powerlognorm',\n",
    " 'powernorm',\n",
    " 'rayleigh',\n",
    " 'rdist',\n",
    " 'recipinvgauss',\n",
    " 'reciprocal',\n",
    " 'rice',\n",
    " 'semicircular',\n",
    " 'skewnorm',\n",
    " 't',\n",
    " 'trapz',\n",
    " 'triang',\n",
    " 'truncexpon',\n",
    " 'truncnorm',\n",
    " 'tukeylambda',\n",
    " 'uniform',\n",
    " 'vonmises',\n",
    " 'vonmises_line',\n",
    " 'wald',\n",
    " 'weibull_max',\n",
    " 'weibull_min',\n",
    " 'wrapcauchy']"
   ]
  },
  {
   "cell_type": "code",
   "execution_count": 5,
   "metadata": {},
   "outputs": [],
   "source": [
    "#importamos base de datos sociológicos \n",
    "data=pd.read_excel('anuario_2019.xlsx', sheet_name=\"2.3 Determinantes Sociológicos\", usecols=\"A,B\",header=None).dropna()\n",
    "#importamos base de datos económicos\n",
    "data2=pd.read_excel('anuario_2019.xlsx', sheet_name=\"Respecto del viaje\", usecols=\"A,B\",header=None).dropna()"
   ]
  },
  {
   "cell_type": "code",
   "execution_count": 6,
   "metadata": {},
   "outputs": [],
   "source": [
    "#segmentamos la base de datos para generar variables \n",
    "#nodo 1: EDAD\n",
    "nac_edad=data.iloc[8:14]\n",
    "nac_edad.columns=([\"AMG\",\"probabilidad\"])\n",
    "#nac_edad[\"frecuencia\"]=nac_edad[\"probabilidad\"]*26801143\n",
    "\n",
    "int_edad=data.iloc[15:21]\n",
    "int_edad.columns=([\"AMG\",\"probabilidad\"])\n",
    "\n",
    "#nodo 2: ESTADO CIVIL\n",
    "nac_civil=data.iloc[22:27]\n",
    "nac_civil.columns=([\"AMG\",\"probabilidad\"])\n",
    "#nac_civil[\"frecuencia\"]=nac_civil[\"probabilidad\"]*26801143\n",
    "\n",
    "int_civil=data.iloc[28:33]\n",
    "int_civil.columns=([\"AMG\",\"probabilidad\"])\n",
    "\n",
    "#nodo 3: NIVEL DE ESCOLARIDAD\n",
    "nac_school=data.iloc[34:40]\n",
    "nac_school.columns=([\"AMG\",\"probabilidad\"])\n",
    "\n",
    "int_school=data.iloc[41:47]\n",
    "int_school.columns=([\"AMG\",\"probabilidad\"])\n",
    "\n",
    "# nodo 4: MOTIVACIÓN PARA HACER EL VIAJE\n",
    "nac_motiv=data2.iloc[13:20]\n",
    "nac_motiv.columns=([\"AMG\",\"probabilidad\"])\n",
    "\n",
    "int_motiv=data2.iloc[22:29]\n",
    "int_motiv.columns=([\"AMG\",\"probabilidad\"])"
   ]
  },
  {
   "cell_type": "markdown",
   "metadata": {},
   "source": [
    "## Nodo 1: Rango de edad"
   ]
  },
  {
   "cell_type": "markdown",
   "metadata": {},
   "source": [
    "### Nacional"
   ]
  },
  {
   "cell_type": "code",
   "execution_count": 7,
   "metadata": {},
   "outputs": [
    {
     "data": {
      "text/html": [
       "<div>\n",
       "<style scoped>\n",
       "    .dataframe tbody tr th:only-of-type {\n",
       "        vertical-align: middle;\n",
       "    }\n",
       "\n",
       "    .dataframe tbody tr th {\n",
       "        vertical-align: top;\n",
       "    }\n",
       "\n",
       "    .dataframe thead th {\n",
       "        text-align: right;\n",
       "    }\n",
       "</style>\n",
       "<table border=\"1\" class=\"dataframe\">\n",
       "  <thead>\n",
       "    <tr style=\"text-align: right;\">\n",
       "      <th></th>\n",
       "      <th>AMG</th>\n",
       "      <th>probabilidad</th>\n",
       "    </tr>\n",
       "  </thead>\n",
       "  <tbody>\n",
       "    <tr>\n",
       "      <th>24</th>\n",
       "      <td>15 a 25</td>\n",
       "      <td>0.107623</td>\n",
       "    </tr>\n",
       "    <tr>\n",
       "      <th>25</th>\n",
       "      <td>26 a 34</td>\n",
       "      <td>0.360987</td>\n",
       "    </tr>\n",
       "    <tr>\n",
       "      <th>26</th>\n",
       "      <td>35 a 44</td>\n",
       "      <td>0.186099</td>\n",
       "    </tr>\n",
       "    <tr>\n",
       "      <th>27</th>\n",
       "      <td>45 a 54</td>\n",
       "      <td>0.195067</td>\n",
       "    </tr>\n",
       "    <tr>\n",
       "      <th>28</th>\n",
       "      <td>55 a 64</td>\n",
       "      <td>0.112108</td>\n",
       "    </tr>\n",
       "    <tr>\n",
       "      <th>29</th>\n",
       "      <td>65 y más</td>\n",
       "      <td>0.0381166</td>\n",
       "    </tr>\n",
       "  </tbody>\n",
       "</table>\n",
       "</div>"
      ],
      "text/plain": [
       "         AMG probabilidad\n",
       "24   15 a 25     0.107623\n",
       "25   26 a 34     0.360987\n",
       "26   35 a 44     0.186099\n",
       "27   45 a 54     0.195067\n",
       "28   55 a 64     0.112108\n",
       "29  65 y más    0.0381166"
      ]
     },
     "execution_count": 7,
     "metadata": {},
     "output_type": "execute_result"
    }
   ],
   "source": [
    "nac_edad"
   ]
  },
  {
   "cell_type": "code",
   "execution_count": 8,
   "metadata": {},
   "outputs": [
    {
     "data": {
      "image/png": "[encoded data removed]",
      "text/plain": [
       "<Figure size 432x288 with 1 Axes>"
      ]
     },
     "metadata": {
      "needs_background": "light"
     },
     "output_type": "display_data"
    }
   ],
   "source": [
    "plt.bar(nac_edad.AMG,nac_edad.probabilidad, label='Histograma de probabilidades')\n",
    "plt.xlabel('Edad (años cumplidos)')\n",
    "plt.ylabel('Probabilidad')\n",
    "plt.title('Histograma de probabilides rango de edad del TURISTA NACIONAL')\n",
    "plt.legend()\n",
    "plt.show()"
   ]
  },
  {
   "cell_type": "code",
   "execution_count": 8,
   "metadata": {},
   "outputs": [
    {
     "name": "stdout",
     "output_type": "stream",
     "text": [
      "nct: statistic=0.15889372415884484, pvalue=0.9914241407638659\n",
      "invweibull: statistic=0.15891347816704626, pvalue=0.9914106798736481\n",
      "genextreme: statistic=0.15891784984091828, pvalue=0.9914076985242439\n",
      "invgamma: statistic=0.15948252318017397, pvalue=0.9910152873136193\n",
      "powerlognorm: statistic=0.16412137654312173, pvalue=0.9871886467883659\n",
      "johnsonsu: statistic=0.16462572415968577, pvalue=0.9867012185481345\n",
      "lognorm: statistic=0.16517499095227903, pvalue=0.9861528954169292\n",
      "fisk: statistic=0.1662542713923043, pvalue=0.9850204864779823\n",
      "kappa3: statistic=0.1666666579516511, pvalue=0.9845679109179161\n",
      "moyal: statistic=0.16666989753964775, pvalue=0.9845649095057338\n",
      "exponnorm: statistic=0.16859354134455762, pvalue=0.9827192483362238\n",
      "frechet_l: statistic=0.16998401889819303, pvalue=0.9813038847456107\n",
      "weibull_max: statistic=0.16998401889819303, pvalue=0.9813038847456107\n",
      "norminvgauss: statistic=0.16999063327423194, pvalue=0.9812969867119373\n",
      "gumbel_r: statistic=0.1701953193743132, pvalue=0.9810827439352832\n",
      "invgauss: statistic=0.1703595312256488, pvalue=0.9809097727708418\n",
      "genlogistic: statistic=0.17039858730165758, pvalue=0.9808684899891617\n",
      "halfgennorm: statistic=0.17083808946180068, pvalue=0.980400121584062\n",
      "ncf: statistic=0.17119366835649819, pvalue=0.9800160515904346\n",
      "skewnorm: statistic=0.1714119534572126, pvalue=0.9797779909662659\n",
      "halfnorm: statistic=0.17194318693439004, pvalue=0.9791913352501267\n",
      "foldnorm: statistic=0.17452464810352086, pvalue=0.9761914743069574\n",
      "gompertz: statistic=0.17755170476026863, pvalue=0.9723518928012499\n",
      "hypsecant: statistic=0.17767325036502674, pvalue=0.9721903271022901\n",
      "recipinvgauss: statistic=0.17973751447415218, pvalue=0.9693578102200568\n",
      "genexpon: statistic=0.18127502439224574, pvalue=0.9671382398237236\n",
      "logistic: statistic=0.18281508394082596, pvalue=0.9648196948224578\n",
      "laplace: statistic=0.1838316689068752, pvalue=0.9632364598127475\n",
      "foldcauchy: statistic=0.1844816722403217, pvalue=0.9622019836173814\n",
      "halflogistic: statistic=0.19157865230288126, pvalue=0.9497633726589535\n",
      "bradford: statistic=0.1923839754259784, pvalue=0.94821766435603\n",
      "dweibull: statistic=0.1939321988532734, pvalue=0.9451682404520828\n",
      "dgamma: statistic=0.1939439113537802, pvalue=0.9451447800559748\n",
      "rice: statistic=0.2019335325001606, pvalue=0.9277640158591913\n",
      "rayleigh: statistic=0.20196766261439697, pvalue=0.9276838508722657\n",
      "truncexpon: statistic=0.20472719869500222, pvalue=0.9210356268249705\n",
      "vonmises_line: statistic=0.2049304552206732, pvalue=0.9205329438782449\n",
      "maxwell: statistic=0.2049508031612674, pvalue=0.9204825223689526\n",
      "gennorm: statistic=0.2110057267170432, pvalue=0.9046894029531908\n",
      "cauchy: statistic=0.22006082198628085, pvalue=0.8781943051662799\n",
      "halfcauchy: statistic=0.22148767040203696, pvalue=0.8737151902445043\n",
      "t: statistic=0.22323383374389483, pvalue=0.8681248242577055\n",
      "crystalball: statistic=0.22324829430911441, pvalue=0.8680780336898527\n",
      "norm: statistic=0.2232484564980266, pvalue=0.8680775088435811\n",
      "loggamma: statistic=0.22540634034321183, pvalue=0.8610053406257305\n",
      "pareto: statistic=0.2254201851932037, pvalue=0.8609593948419725\n",
      "exponpow: statistic=0.24038198708813793, pvalue=0.8073923834764136\n",
      "lomax: statistic=0.24154138681467816, pvalue=0.8029466198248932\n",
      "expon: statistic=0.25099150771425105, pvalue=0.7654568993524317\n",
      "gilbrat: statistic=0.2562210349613515, pvalue=0.7439236836021244\n",
      "wald: statistic=0.26151608390480374, pvalue=0.7216731466672892\n",
      "chi: statistic=0.2681491974554534, pvalue=0.6933015347635663\n",
      "powerlaw: statistic=0.27296745852378057, pvalue=0.6724406881257292\n",
      "cosine: statistic=0.27303035795104313, pvalue=0.6721673332244233\n",
      "gausshyper: statistic=0.27850341541763746, pvalue=0.6483138038325438\n",
      "burr: statistic=0.2808478237551617, pvalue=0.6380703345245444\n",
      "gumbel_l: statistic=0.286613485434421, pvalue=0.6128813923042531\n",
      "levy: statistic=0.29307302220971465, pvalue=0.5847913631723278\n",
      "loglaplace: statistic=0.2990637448939827, pvalue=0.5590110974723197\n",
      "exponweib: statistic=0.30015500520547866, pvalue=0.5543544739725901\n",
      "ksone: statistic=0.30096151460616394, pvalue=0.5509220636463759\n",
      "anglit: statistic=0.30209185711910846, pvalue=0.5461252249735844\n",
      "arcsine: statistic=0.31234546201232005, pvalue=0.503498561236301\n",
      "mielke: statistic=0.3125582619432101, pvalue=0.5026335649316094\n",
      "johnsonsb: statistic=0.31482486532988396, pvalue=0.49347733940086747\n",
      "kappa4: statistic=0.32185521870812606, pvalue=0.4658060145448448\n",
      "semicircular: statistic=0.3327014170124506, pvalue=0.42566946287541263\n",
      "alpha: statistic=0.3361476071659656, pvalue=0.41359162126690163\n",
      "pearson3: statistic=0.336971395498328, pvalue=0.4107296322110452\n",
      "uniform: statistic=0.3472222222222222, pvalue=0.3759346774555049\n",
      "gengamma: statistic=0.3489451278820166, pvalue=0.37024052621419956\n",
      "frechet_r: statistic=0.3509862394069895, pvalue=0.363554081671575\n",
      "weibull_min: statistic=0.3509862394069895, pvalue=0.363554081671575\n",
      "f: statistic=0.3535169992964421, pvalue=0.3553542626379912\n",
      "ncx2: statistic=0.3689621435153825, pvalue=0.3075704767619343\n",
      "erlang: statistic=0.3696662036778138, pvalue=0.30548760869951375\n",
      "nakagami: statistic=0.37573838264418213, pvalue=0.2878788998911507\n",
      "genpareto: statistic=0.37906591040962756, pvalue=0.2785020163822628\n",
      "levy_l: statistic=0.38900140363283575, pvalue=0.25167023550727763\n",
      "geninvgauss: statistic=0.4069743083133073, pvalue=0.20763096676393133\n",
      "beta: statistic=0.42556103775031573, pvalue=0.16817752659601493\n",
      "chi2: statistic=0.4283699181223576, pvalue=0.16274499268546694\n",
      "tukeylambda: statistic=0.4345964100653177, pvalue=0.15118794655081713\n",
      "genhalflogistic: statistic=0.48226855037046645, pvalue=0.08312508095225446\n",
      "triang: statistic=0.5499036430510899, pvalue=0.03140688615939273\n",
      "gamma: statistic=0.5885672170639752, pvalue=0.016511649271963226\n",
      "trapz: statistic=0.5947734482167352, pvalue=0.014812669367383536\n",
      "truncnorm: statistic=0.6666576267478568, pvalue=0.003773002341171783\n",
      "loguniform: statistic=0.6666617921240756, pvalue=0.0037726744703847973\n",
      "reciprocal: statistic=0.6666617921240756, pvalue=0.0037726744703847973\n",
      "argus: statistic=0.6666666666666666, pvalue=0.0037722908093278493\n",
      "powernorm: statistic=1.0, pvalue=0.0\n",
      "rdist: statistic=1.0, pvalue=0.0\n",
      "vonmises: statistic=1.5813255404866236e+25, pvalue=0.0\n",
      "wrapcauchy: statistic=nan, pvalue=nan\n"
     ]
    }
   ],
   "source": [
    "import warnings\n",
    "warnings.filterwarnings(\"ignore\")\n",
    "e=[]\n",
    "y=np.array(nac_edad.probabilidad,dtype=float)\n",
    "\n",
    "for dist_name in dist_to: \n",
    "    dist=getattr(st,dist_name)  \n",
    "    param =dist.fit(y)\n",
    "    a=st.kstest(y,dist_name,args=param)#K-S test based on p-values\n",
    "    e.append((dist_name,a[0],a[1]))\n",
    "\n",
    "e.sort(key=lambda x:float(x[2]),reverse=True)#sort by p-values\n",
    "for j in e:\n",
    "    print(\"{}: statistic={}, pvalue={}\".format(j[0], j[1], j[2]))"
   ]
  },
  {
   "cell_type": "markdown",
   "metadata": {},
   "source": [
    "La distribucón que mejor se ajusta a la distribución de probabilidades de la edad los turistas nacionales es `nct`, a continuación podemos observar como se ve el ajuste"
   ]
  },
  {
   "cell_type": "code",
   "execution_count": 9,
   "metadata": {},
   "outputs": [
    {
     "name": "stderr",
     "output_type": "stream",
     "text": [
      "C:\\Users\\Ariadna\\Anaconda3\\lib\\site-packages\\scipy\\stats\\_distn_infrastructure.py:2429: RuntimeWarning: invalid value encountered in double_scalars\n",
      "  Lhat = muhat - Shat*mu\n"
     ]
    },
    {
     "data": {
      "image/png": "[encoded data removed]",
      "text/plain": [
       "<Figure size 432x288 with 1 Axes>"
      ]
     },
     "metadata": {
      "needs_background": "light"
     },
     "output_type": "display_data"
    }
   ],
   "source": [
    "dist='nct'\n",
    "datos=np.array(nac_edad.probabilidad,dtype=float)\n",
    "parametros=getattr(st, dist).fit(datos)\n",
    "\n",
    "plt.bar(nac_edad.AMG,nac_edad.probabilidad, label='Histograma de probabilidades')\n",
    "\n",
    "x = np.arange(0,6,0.1)\n",
    "y = st.nct.pdf(x,parametros[0],parametros[2],parametros[3])\n",
    "\n",
    "pdf = st.nct.pdf(x,1,1,0,1)\n",
    "plt.plot(x,y,'r-',label='Fitted')\n",
    "plt.plot(x,pdf,label='pdf estimada',color='g')\n",
    "plt.legend()\n",
    "plt.show()"
   ]
  },
  {
   "cell_type": "code",
   "execution_count": 10,
   "metadata": {},
   "outputs": [
    {
     "data": {
      "image/png": "[encoded data removed]",
      "text/plain": [
       "<Figure size 432x288 with 1 Axes>"
      ]
     },
     "metadata": {
      "needs_background": "light"
     },
     "output_type": "display_data"
    },
    {
     "name": "stdout",
     "output_type": "stream",
     "text": [
      "media muestral =2.250000, desviación estándar muestral =1.436141\n",
      "media real =0.166667, desviación real muestral =0.111295\n"
     ]
    }
   ],
   "source": [
    "J = 10  # Cantidad de particiones del histograma\n",
    "[freqs,xs,p]=plt.hist(nac_edad.AMG,J,density=True)\n",
    "plt.show()\n",
    "# Se obvia el último valor de x para obtener exactamente J muestras de x\n",
    "xs = xs[:-1] \n",
    "\n",
    "# Media y desviación estándar muestral\n",
    "mus = np.mean(xs)\n",
    "sigmas = np.std(xs)\n",
    "print('media muestral =%f, desviación estándar muestral =%f'%(mus,sigmas))\n",
    "print('media real =%f, desviación real muestral =%f'%((nac_edad.probabilidad).mean(),(nac_edad.probabilidad).std()))"
   ]
  },
  {
   "cell_type": "markdown",
   "metadata": {},
   "source": [
    "Haremos prueba del chi cuadrado para obtener los estadistícos.\n"
   ]
  },
  {
   "cell_type": "code",
   "execution_count": 11,
   "metadata": {},
   "outputs": [
    {
     "name": "stdout",
     "output_type": "stream",
     "text": [
      "Valor de chi cuadrado librería =  Power_divergenceResult(statistic=inf, pvalue=0.0)\n",
      "Estadístico de chi_cuadrado =  12.591587243743977\n",
      "Media muestral = 2.250000 \n",
      "Desviación estándar muestral =1.436141 \n"
     ]
    },
    {
     "name": "stderr",
     "output_type": "stream",
     "text": [
      "C:\\Users\\Ariadna\\Anaconda3\\lib\\site-packages\\scipy\\stats\\_distn_infrastructure.py:2429: RuntimeWarning: invalid value encountered in double_scalars\n",
      "  Lhat = muhat - Shat*mu\n",
      "C:\\Users\\Ariadna\\Anaconda3\\lib\\site-packages\\scipy\\stats\\stats.py:5982: RuntimeWarning: divide by zero encountered in true_divide\n",
      "  terms = (f_obs.astype(np.float64) - f_exp)**2 / f_exp\n"
     ]
    }
   ],
   "source": [
    "dist = 'nct'\n",
    "datos = np.array(nac_edad.probabilidad, dtype = float)\n",
    "parametros = getattr(st, dist). fit(datos)\n",
    "pi = st.nct.pdf(xs, parametros[0], parametros[2], parametros[3])\n",
    "# Cálculo de la esperanza usando la expresión teórica\n",
    "Ei = xs*pi\n",
    "\n",
    "# Cálculo usando la librería estadística de la chi cuadrada\n",
    "Xs = st.chisquare(freqs,Ei)\n",
    "print('Valor de chi cuadrado librería = ',Xs)\n",
    "\n",
    "# Cálculo de Grados de libertad del estadístico\n",
    "p = 3 # Parámetros estimados con los datos\n",
    "m = J-p-1 # grados de libertad\n",
    "\n",
    "Chi_est2 = st.chi2.ppf(q = 0.95,df=m)\n",
    "print('Estadístico de chi_cuadrado = ',Chi_est2)\n",
    "print('Media muestral = %f \\nDesviación estándar muestral =%f '%(mus,sigmas))"
   ]
  },
  {
   "cell_type": "markdown",
   "metadata": {},
   "source": [
    "### Internacional"
   ]
  },
  {
   "cell_type": "code",
   "execution_count": 12,
   "metadata": {},
   "outputs": [
    {
     "data": {
      "text/html": [
       "<div>\n",
       "<style scoped>\n",
       "    .dataframe tbody tr th:only-of-type {\n",
       "        vertical-align: middle;\n",
       "    }\n",
       "\n",
       "    .dataframe tbody tr th {\n",
       "        vertical-align: top;\n",
       "    }\n",
       "\n",
       "    .dataframe thead th {\n",
       "        text-align: right;\n",
       "    }\n",
       "</style>\n",
       "<table border=\"1\" class=\"dataframe\">\n",
       "  <thead>\n",
       "    <tr style=\"text-align: right;\">\n",
       "      <th></th>\n",
       "      <th>AMG</th>\n",
       "      <th>probabilidad</th>\n",
       "    </tr>\n",
       "  </thead>\n",
       "  <tbody>\n",
       "    <tr>\n",
       "      <th>35</th>\n",
       "      <td>15 a 25</td>\n",
       "      <td>0.125</td>\n",
       "    </tr>\n",
       "    <tr>\n",
       "      <th>36</th>\n",
       "      <td>26 a 34</td>\n",
       "      <td>0.471154</td>\n",
       "    </tr>\n",
       "    <tr>\n",
       "      <th>37</th>\n",
       "      <td>35 a 44</td>\n",
       "      <td>0.153846</td>\n",
       "    </tr>\n",
       "    <tr>\n",
       "      <th>38</th>\n",
       "      <td>45 a 54</td>\n",
       "      <td>0.125</td>\n",
       "    </tr>\n",
       "    <tr>\n",
       "      <th>39</th>\n",
       "      <td>55 a 64</td>\n",
       "      <td>0.0865385</td>\n",
       "    </tr>\n",
       "    <tr>\n",
       "      <th>40</th>\n",
       "      <td>65 y más</td>\n",
       "      <td>0.0384615</td>\n",
       "    </tr>\n",
       "  </tbody>\n",
       "</table>\n",
       "</div>"
      ],
      "text/plain": [
       "         AMG probabilidad\n",
       "35   15 a 25        0.125\n",
       "36   26 a 34     0.471154\n",
       "37   35 a 44     0.153846\n",
       "38   45 a 54        0.125\n",
       "39   55 a 64    0.0865385\n",
       "40  65 y más    0.0384615"
      ]
     },
     "execution_count": 12,
     "metadata": {},
     "output_type": "execute_result"
    }
   ],
   "source": [
    "int_edad"
   ]
  },
  {
   "cell_type": "code",
   "execution_count": 13,
   "metadata": {},
   "outputs": [
    {
     "data": {
      "image/png": "[encoded data removed]",
      "text/plain": [
       "<Figure size 432x288 with 1 Axes>"
      ]
     },
     "metadata": {
      "needs_background": "light"
     },
     "output_type": "display_data"
    }
   ],
   "source": [
    "plt.bar(int_edad.AMG,int_edad.probabilidad, label='Histograma de probabilidades')\n",
    "plt.xlabel('Edad (años cumplidos)')\n",
    "plt.ylabel('Probabilidad')\n",
    "plt.title('Histograma de probabilides rango de edad del TURISTA INTERNACIONAL')\n",
    "plt.legend()\n",
    "plt.show()"
   ]
  },
  {
   "cell_type": "code",
   "execution_count": 44,
   "metadata": {
    "scrolled": true
   },
   "outputs": [
    {
     "name": "stdout",
     "output_type": "stream",
     "text": [
      "dgamma: statistic=0.16666666667221525, pvalue=0.9845679012294303\n",
      "loglaplace: statistic=0.1673100886996518, pvalue=0.9839649889981006\n",
      "foldcauchy: statistic=0.17289423232864687, pvalue=0.9781150725565655\n",
      "laplace: statistic=0.18703515703536422, pvalue=0.9579693398421848\n",
      "t: statistic=0.19257777480858324, pvalue=0.9478415633913978\n",
      "nct: statistic=0.19450186448781287, pvalue=0.9440203702200007\n",
      "invweibull: statistic=0.1945225291522522, pvalue=0.9439784693579987\n",
      "genextreme: statistic=0.19452327230973665, pvalue=0.9439769621475746\n",
      "fisk: statistic=0.19658479922319944, pvalue=0.9397045257718827\n",
      "invgamma: statistic=0.1968119860368993, pvalue=0.9392224917984862\n",
      "lognorm: statistic=0.20070741438434364, pvalue=0.9306105047202443\n",
      "gennorm: statistic=0.20154819700547413, pvalue=0.928665597914654\n",
      "dweibull: statistic=0.20197871089893432, pvalue=0.9276578898099677\n",
      "norminvgauss: statistic=0.20287029310304405, pvalue=0.9255454640971909\n",
      "wald: statistic=0.2030402142518246, pvalue=0.9251389706555951\n",
      "cauchy: statistic=0.2046722330035335, pvalue=0.9211712589254021\n",
      "invgauss: statistic=0.20499593784610992, pvalue=0.9203706164347948\n",
      "gilbrat: statistic=0.20671968381789702, pvalue=0.9160311463834987\n",
      "powerlognorm: statistic=0.20759614418171274, pvalue=0.9137757118726187\n",
      "lomax: statistic=0.208579770334946, pvalue=0.9112053036940679\n",
      "genpareto: statistic=0.20862506364932776, pvalue=0.9110859467933612\n",
      "halfcauchy: statistic=0.2169735858970917, pvalue=0.8876064813362244\n",
      "hypsecant: statistic=0.21829010513881753, pvalue=0.883639883043861\n",
      "exponweib: statistic=0.2224807948508173, pvalue=0.8705502644395868\n",
      "pareto: statistic=0.22411675041104245, pvalue=0.8652531759412588\n",
      "bradford: statistic=0.22949877861309442, pvalue=0.8471153181567925\n",
      "exponnorm: statistic=0.23863973819600048, pvalue=0.8140011808587683\n",
      "expon: statistic=0.23990299307393237, pvalue=0.8092180684388602\n",
      "genexpon: statistic=0.2399955422565806, pvalue=0.8088658275902004\n",
      "vonmises_line: statistic=0.2402857043919443, pvalue=0.8077598891123722\n",
      "gompertz: statistic=0.24059540836909343, pvalue=0.8065768319888927\n",
      "moyal: statistic=0.25268875147213976, pvalue=0.7585216678896339\n",
      "levy: statistic=0.25403720491403414, pvalue=0.7529742113661095\n",
      "powerlaw: statistic=0.26217337880797087, pvalue=0.7188840656363055\n",
      "alpha: statistic=0.2622246598865214, pvalue=0.7186662371604393\n",
      "kappa3: statistic=0.26241174932864225, pvalue=0.7178712537710439\n",
      "gengamma: statistic=0.26469271508107517, pvalue=0.7081454476905471\n",
      "logistic: statistic=0.2682518681770375, pvalue=0.692858886072621\n",
      "exponpow: statistic=0.2685209973677465, pvalue=0.6916981448196688\n",
      "genlogistic: statistic=0.27390033148174653, pvalue=0.6683842863048567\n",
      "pearson3: statistic=0.27415804622379747, pvalue=0.6672628636553795\n",
      "gumbel_r: statistic=0.2754021193184806, pvalue=0.6618449795513817\n",
      "frechet_l: statistic=0.2765983553830773, pvalue=0.6566293748790681\n",
      "weibull_max: statistic=0.2765983553830773, pvalue=0.6566293748790681\n",
      "f: statistic=0.27904639954872645, pvalue=0.6459420703471996\n",
      "geninvgauss: statistic=0.28938714145471467, pvalue=0.6007934549715848\n",
      "frechet_r: statistic=0.2917745618590569, pvalue=0.5904188298686053\n",
      "weibull_min: statistic=0.2917745618590569, pvalue=0.5904188298686053\n",
      "halflogistic: statistic=0.2926779964101984, pvalue=0.586502136988861\n",
      "burr: statistic=0.3017531418637774, pvalue=0.5475608997181627\n",
      "recipinvgauss: statistic=0.32212564020393075, pvalue=0.46476557636757276\n",
      "johnsonsu: statistic=0.3350130390915416, pvalue=0.4175487488838413\n",
      "loggamma: statistic=0.3679257885867286, pvalue=0.31065182113441603\n",
      "norm: statistic=0.3695695904095912, pvalue=0.3057729232379759\n",
      "crystalball: statistic=0.36956983098781393, pvalue=0.3057722125729161\n",
      "maxwell: statistic=0.3718838354382043, pvalue=0.29898271306775026\n",
      "gamma: statistic=0.3750374481813173, pvalue=0.2898788485409983\n",
      "truncexpon: statistic=0.37580007694162687, pvalue=0.2877032809542974\n",
      "chi: statistic=0.3762094685370918, pvalue=0.2865395935151622\n",
      "skewnorm: statistic=0.3780691474397801, pvalue=0.28129046507205313\n",
      "foldnorm: statistic=0.3781522699574048, pvalue=0.28105726122530794\n",
      "halfnorm: statistic=0.37815914036028564, pvalue=0.2810379914470771\n",
      "rice: statistic=0.3806799543275785, pvalue=0.2740238723844515\n",
      "rayleigh: statistic=0.3807398059416871, pvalue=0.2738586998349427\n",
      "mielke: statistic=0.3807717312293993, pvalue=0.2737706215049591\n",
      "gumbel_l: statistic=0.3919635301757488, pvalue=0.244011931112043\n",
      "halfgennorm: statistic=0.39560339367019604, pvalue=0.2348173587515876\n",
      "tukeylambda: statistic=0.41120070587457985, pvalue=0.19811922084041267\n",
      "levy_l: statistic=0.42340346926901273, pvalue=0.17244377789303855\n",
      "ncf: statistic=0.42616324143220397, pvalue=0.1670012756093302\n",
      "cosine: statistic=0.44003798874017813, pvalue=0.141627225855544\n",
      "arcsine: statistic=0.44079813486480324, pvalue=0.14033112982875795\n",
      "gausshyper: statistic=0.45686519078038157, pvalue=0.11512647386442987\n",
      "anglit: statistic=0.4807573817543871, pvalue=0.08478630899324657\n",
      "chi2: statistic=0.48236462626765453, pvalue=0.08302041672163207\n",
      "ksone: statistic=0.5001190223071316, pvalue=0.0654797706452844\n",
      "argus: statistic=0.5177947251350493, pvalue=0.05107321584425297\n",
      "nakagami: statistic=0.51786016739799, pvalue=0.051024962749363766\n",
      "kappa4: statistic=0.5331626390472897, pvalue=0.04069660219272415\n",
      "erlang: statistic=0.5414472139466413, pvalue=0.03585313121643569\n",
      "johnsonsb: statistic=0.549109646485645, pvalue=0.031803913157982394\n",
      "uniform: statistic=0.5666666666666667, pvalue=0.02394192043895748\n",
      "ncx2: statistic=0.6201745158090917, pvalue=0.009363186641456923\n",
      "beta: statistic=0.6399486861763958, pvalue=0.0064438104584078814\n",
      "genhalflogistic: statistic=0.6526008825657371, pvalue=0.00502649177497006\n",
      "vonmises: statistic=0.6597512116253045, pvalue=0.0043508749025477035\n",
      "loguniform: statistic=0.6666617697954405, pvalue=0.0037726762278826043\n",
      "reciprocal: statistic=0.6666617697954405, pvalue=0.0037726762278826043\n",
      "truncnorm: statistic=0.6666666353899087, pvalue=0.0037722932709252197\n",
      "triang: statistic=0.7219241820407213, pvalue=0.001073406478277361\n",
      "trapz: statistic=0.7396859996570645, pvalue=0.000686252148671453\n",
      "powernorm: statistic=1.0, pvalue=0.0\n",
      "rdist: statistic=1.0, pvalue=0.0\n",
      "semicircular: statistic=1.0, pvalue=0.0\n",
      "wrapcauchy: statistic=nan, pvalue=nan\n"
     ]
    }
   ],
   "source": [
    "import warnings\n",
    "warnings.filterwarnings(\"ignore\")\n",
    "e=[]\n",
    "y=np.array(int_edad.probabilidad,dtype=float)\n",
    "\n",
    "for dist_name in dist_to: \n",
    "    dist=getattr(st,dist_name)  \n",
    "    param =dist.fit(y)\n",
    "    a=st.kstest(y,dist_name,args=param)#K-S test based on p-values\n",
    "    e.append((dist_name,a[0],a[1]))\n",
    "\n",
    "e.sort(key=lambda x:float(x[2]),reverse=True)#sort by p-values\n",
    "for j in e:\n",
    "    print(\"{}: statistic={}, pvalue={}\".format(j[0], j[1], j[2]))"
   ]
  },
  {
   "cell_type": "markdown",
   "metadata": {},
   "source": [
    "La distribucón que mejor se ajusta a la distribución de probabilidades de la edad de los turistas internacionales es `dgamma`, a continuación veremos como ajusta"
   ]
  },
  {
   "cell_type": "code",
   "execution_count": 14,
   "metadata": {},
   "outputs": [
    {
     "data": {
      "image/png": "[encoded data removed]",
      "text/plain": [
       "<Figure size 432x288 with 1 Axes>"
      ]
     },
     "metadata": {
      "needs_background": "light"
     },
     "output_type": "display_data"
    }
   ],
   "source": [
    "dist='dgamma'\n",
    "datos=np.array(int_edad.probabilidad,dtype=float)\n",
    "parametros=getattr(st, dist).fit(datos)\n",
    "\n",
    "plt.bar(nac_edad.AMG,nac_edad.probabilidad, label='Histograma de probabilidades')\n",
    "\n",
    "x = np.arange(0,6,0.1)\n",
    "y = st.dgamma.pdf(x,parametros[0],parametros[1])\n",
    "\n",
    "pdf = st.dgamma.pdf(x,1,1)\n",
    "plt.plot(x,y,'r-',label='Fitted')\n",
    "plt.plot(x,pdf,label='pdf estimada',color='g')\n",
    "plt.legend()\n",
    "plt.show()"
   ]
  },
  {
   "cell_type": "code",
   "execution_count": 15,
   "metadata": {},
   "outputs": [
    {
     "data": {
      "image/png": "[encoded data removed]",
      "text/plain": [
       "<Figure size 432x288 with 1 Axes>"
      ]
     },
     "metadata": {
      "needs_background": "light"
     },
     "output_type": "display_data"
    },
    {
     "name": "stdout",
     "output_type": "stream",
     "text": [
      "media muestral =2.250000, desviación estándar muestral =1.436141\n",
      "media real =0.166667, desviación real muestral =0.154406\n"
     ]
    }
   ],
   "source": [
    "J = 10  # Cantidad de particiones del histograma\n",
    "[freqs,xs,p]=plt.hist(int_edad.AMG,J,density=True)\n",
    "plt.show()\n",
    "# Se obvia el último valor de x para obtener exactamente J muestras de x\n",
    "xs = xs[:-1] \n",
    "\n",
    "# Media y desviación estándar muestral\n",
    "mus = np.mean(xs)\n",
    "sigmas = np.std(xs)\n",
    "print('media muestral =%f, desviación estándar muestral =%f'%(mus,sigmas))\n",
    "print('media real =%f, desviación real muestral =%f'%((int_edad.probabilidad).mean(),(int_edad.probabilidad).std()))"
   ]
  },
  {
   "cell_type": "markdown",
   "metadata": {},
   "source": [
    "Haremos prueba del chi cuadrado para obtener los estadistícos.\n"
   ]
  },
  {
   "cell_type": "code",
   "execution_count": 17,
   "metadata": {},
   "outputs": [
    {
     "name": "stdout",
     "output_type": "stream",
     "text": [
      "Valor de chi cuadrado librería =  Power_divergenceResult(statistic=inf, pvalue=0.0)\n",
      "Estadístico de chi_cuadrado =  12.591587243743977\n",
      "Media muestral = 2.250000 \n",
      "Desviación estándar muestral =1.436141 \n"
     ]
    }
   ],
   "source": [
    "dist='dgamma'\n",
    "datos=np.array(int_edad.probabilidad,dtype=float)\n",
    "parametros=getattr(st, dist).fit(datos)\n",
    "pi = st.dgamma.pdf(xs, parametros[0],parametros[1])\n",
    "# Cálculo de la esperanza usando la expresión teórica\n",
    "Ei = xs*pi\n",
    "\n",
    "# Cálculo usando la librería estadística de la chi cuadrada\n",
    "Xs = st.chisquare(freqs,Ei)\n",
    "print('Valor de chi cuadrado librería = ',Xs)\n",
    "\n",
    "# Cálculo de Grados de libertad del estadístico\n",
    "p = 3 # Parámetros estimados con los datos\n",
    "m = J-p-1 # grados de libertad\n",
    "\n",
    "Chi_est2 = st.chi2.ppf(q = 0.95,df=m)\n",
    "print('Estadístico de chi_cuadrado = ',Chi_est2)\n",
    "print('Media muestral = %f \\nDesviación estándar muestral =%f '%(mus,sigmas))"
   ]
  },
  {
   "cell_type": "markdown",
   "metadata": {},
   "source": [
    "## Nodo 2: Estado civil"
   ]
  },
  {
   "cell_type": "markdown",
   "metadata": {},
   "source": [
    "### Nacional"
   ]
  },
  {
   "cell_type": "code",
   "execution_count": 18,
   "metadata": {},
   "outputs": [
    {
     "data": {
      "text/html": [
       "<div>\n",
       "<style scoped>\n",
       "    .dataframe tbody tr th:only-of-type {\n",
       "        vertical-align: middle;\n",
       "    }\n",
       "\n",
       "    .dataframe tbody tr th {\n",
       "        vertical-align: top;\n",
       "    }\n",
       "\n",
       "    .dataframe thead th {\n",
       "        text-align: right;\n",
       "    }\n",
       "</style>\n",
       "<table border=\"1\" class=\"dataframe\">\n",
       "  <thead>\n",
       "    <tr style=\"text-align: right;\">\n",
       "      <th></th>\n",
       "      <th>AMG</th>\n",
       "      <th>probabilidad</th>\n",
       "    </tr>\n",
       "  </thead>\n",
       "  <tbody>\n",
       "    <tr>\n",
       "      <th>48</th>\n",
       "      <td>Soltero</td>\n",
       "      <td>0.319911</td>\n",
       "    </tr>\n",
       "    <tr>\n",
       "      <th>49</th>\n",
       "      <td>Casado</td>\n",
       "      <td>0.55481</td>\n",
       "    </tr>\n",
       "    <tr>\n",
       "      <th>50</th>\n",
       "      <td>Unión Libre</td>\n",
       "      <td>0.0425056</td>\n",
       "    </tr>\n",
       "    <tr>\n",
       "      <th>51</th>\n",
       "      <td>Viudo</td>\n",
       "      <td>0.0290828</td>\n",
       "    </tr>\n",
       "    <tr>\n",
       "      <th>52</th>\n",
       "      <td>Divorciado</td>\n",
       "      <td>0.0536913</td>\n",
       "    </tr>\n",
       "  </tbody>\n",
       "</table>\n",
       "</div>"
      ],
      "text/plain": [
       "            AMG probabilidad\n",
       "48      Soltero     0.319911\n",
       "49       Casado      0.55481\n",
       "50  Unión Libre    0.0425056\n",
       "51        Viudo    0.0290828\n",
       "52   Divorciado    0.0536913"
      ]
     },
     "execution_count": 18,
     "metadata": {},
     "output_type": "execute_result"
    }
   ],
   "source": [
    "nac_civil"
   ]
  },
  {
   "cell_type": "code",
   "execution_count": 19,
   "metadata": {},
   "outputs": [
    {
     "data": {
      "image/png": "[encoded data removed]",
      "text/plain": [
       "<Figure size 432x288 with 1 Axes>"
      ]
     },
     "metadata": {
      "needs_background": "light"
     },
     "output_type": "display_data"
    }
   ],
   "source": [
    "plt.bar(nac_civil.AMG,nac_civil.probabilidad, label='Histograma de probabilidades')\n",
    "plt.xlabel('Estado Civil')\n",
    "plt.ylabel('Probabilidad')\n",
    "plt.title('Histograma de probabilides estado civil del TURISTA NACIONAL')\n",
    "plt.legend()\n",
    "plt.show()"
   ]
  },
  {
   "cell_type": "code",
   "execution_count": 44,
   "metadata": {},
   "outputs": [
    {
     "name": "stdout",
     "output_type": "stream",
     "text": [
      "dgamma: statistic=0.16666666667221525, pvalue=0.9845679012294303\n",
      "loglaplace: statistic=0.1673100886996518, pvalue=0.9839649889981006\n",
      "foldcauchy: statistic=0.17289423232864687, pvalue=0.9781150725565655\n",
      "laplace: statistic=0.18703515703536422, pvalue=0.9579693398421848\n",
      "t: statistic=0.19257777480858324, pvalue=0.9478415633913978\n",
      "nct: statistic=0.19450186448781287, pvalue=0.9440203702200007\n",
      "invweibull: statistic=0.1945225291522522, pvalue=0.9439784693579987\n",
      "genextreme: statistic=0.19452327230973665, pvalue=0.9439769621475746\n",
      "fisk: statistic=0.19658479922319944, pvalue=0.9397045257718827\n",
      "invgamma: statistic=0.1968119860368993, pvalue=0.9392224917984862\n",
      "lognorm: statistic=0.20070741438434364, pvalue=0.9306105047202443\n",
      "gennorm: statistic=0.20154819700547413, pvalue=0.928665597914654\n",
      "dweibull: statistic=0.20197871089893432, pvalue=0.9276578898099677\n",
      "norminvgauss: statistic=0.20287029310304405, pvalue=0.9255454640971909\n",
      "wald: statistic=0.2030402142518246, pvalue=0.9251389706555951\n",
      "cauchy: statistic=0.2046722330035335, pvalue=0.9211712589254021\n",
      "invgauss: statistic=0.20499593784610992, pvalue=0.9203706164347948\n",
      "gilbrat: statistic=0.20671968381789702, pvalue=0.9160311463834987\n",
      "powerlognorm: statistic=0.20759614418171274, pvalue=0.9137757118726187\n",
      "lomax: statistic=0.208579770334946, pvalue=0.9112053036940679\n",
      "genpareto: statistic=0.20862506364932776, pvalue=0.9110859467933612\n",
      "halfcauchy: statistic=0.2169735858970917, pvalue=0.8876064813362244\n",
      "hypsecant: statistic=0.21829010513881753, pvalue=0.883639883043861\n",
      "exponweib: statistic=0.2224807948508173, pvalue=0.8705502644395868\n",
      "pareto: statistic=0.22411675041104245, pvalue=0.8652531759412588\n",
      "bradford: statistic=0.22949877861309442, pvalue=0.8471153181567925\n",
      "exponnorm: statistic=0.23863973819600048, pvalue=0.8140011808587683\n",
      "expon: statistic=0.23990299307393237, pvalue=0.8092180684388602\n",
      "genexpon: statistic=0.2399955422565806, pvalue=0.8088658275902004\n",
      "vonmises_line: statistic=0.2402857043919443, pvalue=0.8077598891123722\n",
      "gompertz: statistic=0.24059540836909343, pvalue=0.8065768319888927\n",
      "moyal: statistic=0.25268875147213976, pvalue=0.7585216678896339\n",
      "levy: statistic=0.25403720491403414, pvalue=0.7529742113661095\n",
      "powerlaw: statistic=0.26217337880797087, pvalue=0.7188840656363055\n",
      "alpha: statistic=0.2622246598865214, pvalue=0.7186662371604393\n",
      "kappa3: statistic=0.26241174932864225, pvalue=0.7178712537710439\n",
      "gengamma: statistic=0.26469271508107517, pvalue=0.7081454476905471\n",
      "logistic: statistic=0.2682518681770375, pvalue=0.692858886072621\n",
      "exponpow: statistic=0.2685209973677465, pvalue=0.6916981448196688\n",
      "genlogistic: statistic=0.27390033148174653, pvalue=0.6683842863048567\n",
      "pearson3: statistic=0.27415804622379747, pvalue=0.6672628636553795\n",
      "gumbel_r: statistic=0.2754021193184806, pvalue=0.6618449795513817\n",
      "frechet_l: statistic=0.2765983553830773, pvalue=0.6566293748790681\n",
      "weibull_max: statistic=0.2765983553830773, pvalue=0.6566293748790681\n",
      "f: statistic=0.27904639954872645, pvalue=0.6459420703471996\n",
      "geninvgauss: statistic=0.28938714145471467, pvalue=0.6007934549715848\n",
      "frechet_r: statistic=0.2917745618590569, pvalue=0.5904188298686053\n",
      "weibull_min: statistic=0.2917745618590569, pvalue=0.5904188298686053\n",
      "halflogistic: statistic=0.2926779964101984, pvalue=0.586502136988861\n",
      "burr: statistic=0.3017531418637774, pvalue=0.5475608997181627\n",
      "recipinvgauss: statistic=0.32212564020393075, pvalue=0.46476557636757276\n",
      "johnsonsu: statistic=0.3350130390915416, pvalue=0.4175487488838413\n",
      "loggamma: statistic=0.3679257885867286, pvalue=0.31065182113441603\n",
      "norm: statistic=0.3695695904095912, pvalue=0.3057729232379759\n",
      "crystalball: statistic=0.36956983098781393, pvalue=0.3057722125729161\n",
      "maxwell: statistic=0.3718838354382043, pvalue=0.29898271306775026\n",
      "gamma: statistic=0.3750374481813173, pvalue=0.2898788485409983\n",
      "truncexpon: statistic=0.37580007694162687, pvalue=0.2877032809542974\n",
      "chi: statistic=0.3762094685370918, pvalue=0.2865395935151622\n",
      "skewnorm: statistic=0.3780691474397801, pvalue=0.28129046507205313\n",
      "foldnorm: statistic=0.3781522699574048, pvalue=0.28105726122530794\n",
      "halfnorm: statistic=0.37815914036028564, pvalue=0.2810379914470771\n",
      "rice: statistic=0.3806799543275785, pvalue=0.2740238723844515\n",
      "rayleigh: statistic=0.3807398059416871, pvalue=0.2738586998349427\n",
      "mielke: statistic=0.3807717312293993, pvalue=0.2737706215049591\n",
      "gumbel_l: statistic=0.3919635301757488, pvalue=0.244011931112043\n",
      "halfgennorm: statistic=0.39560339367019604, pvalue=0.2348173587515876\n",
      "tukeylambda: statistic=0.41120070587457985, pvalue=0.19811922084041267\n",
      "levy_l: statistic=0.42340346926901273, pvalue=0.17244377789303855\n",
      "ncf: statistic=0.42616324143220397, pvalue=0.1670012756093302\n",
      "cosine: statistic=0.44003798874017813, pvalue=0.141627225855544\n",
      "arcsine: statistic=0.44079813486480324, pvalue=0.14033112982875795\n",
      "gausshyper: statistic=0.45686519078038157, pvalue=0.11512647386442987\n",
      "anglit: statistic=0.4807573817543871, pvalue=0.08478630899324657\n",
      "chi2: statistic=0.48236462626765453, pvalue=0.08302041672163207\n",
      "ksone: statistic=0.5001190223071316, pvalue=0.0654797706452844\n",
      "argus: statistic=0.5177947251350493, pvalue=0.05107321584425297\n",
      "nakagami: statistic=0.51786016739799, pvalue=0.051024962749363766\n",
      "kappa4: statistic=0.5331626390472897, pvalue=0.04069660219272415\n",
      "erlang: statistic=0.5414472139466413, pvalue=0.03585313121643569\n",
      "johnsonsb: statistic=0.549109646485645, pvalue=0.031803913157982394\n",
      "uniform: statistic=0.5666666666666667, pvalue=0.02394192043895748\n",
      "ncx2: statistic=0.6201745158090917, pvalue=0.009363186641456923\n",
      "beta: statistic=0.6399486861763958, pvalue=0.0064438104584078814\n",
      "genhalflogistic: statistic=0.6526008825657371, pvalue=0.00502649177497006\n",
      "vonmises: statistic=0.6597512116253045, pvalue=0.0043508749025477035\n",
      "loguniform: statistic=0.6666617697954405, pvalue=0.0037726762278826043\n",
      "reciprocal: statistic=0.6666617697954405, pvalue=0.0037726762278826043\n",
      "truncnorm: statistic=0.6666666353899087, pvalue=0.0037722932709252197\n",
      "triang: statistic=0.7219241820407213, pvalue=0.001073406478277361\n",
      "trapz: statistic=0.7396859996570645, pvalue=0.000686252148671453\n",
      "powernorm: statistic=1.0, pvalue=0.0\n",
      "rdist: statistic=1.0, pvalue=0.0\n",
      "semicircular: statistic=1.0, pvalue=0.0\n",
      "wrapcauchy: statistic=nan, pvalue=nan\n"
     ]
    }
   ],
   "source": [
    "import warnings\n",
    "warnings.filterwarnings(\"ignore\")\n",
    "e=[]\n",
    "y=np.array(int_edad.probabilidad,dtype=float)\n",
    "\n",
    "for dist_name in dist_to: \n",
    "    dist=getattr(st,dist_name)  \n",
    "    param =dist.fit(y)\n",
    "    a=st.kstest(y,dist_name,args=param)#K-S test based on p-values\n",
    "    e.append((dist_name,a[0],a[1]))\n",
    "\n",
    "e.sort(key=lambda x:float(x[2]),reverse=True)#sort by p-values\n",
    "for j in e:\n",
    "    print(\"{}: statistic={}, pvalue={}\".format(j[0], j[1], j[2]))"
   ]
  },
  {
   "cell_type": "markdown",
   "metadata": {},
   "source": [
    "La distribucón que mejor se ajusta a la distribución de probabilidades del estado civil de los turistas nacionales es `dgamma` , a continuación veremos el ajuste"
   ]
  },
  {
   "cell_type": "code",
   "execution_count": 25,
   "metadata": {},
   "outputs": [
    {
     "data": {
      "image/png": "[encoded data removed]",
      "text/plain": [
       "<Figure size 432x288 with 1 Axes>"
      ]
     },
     "metadata": {
      "needs_background": "light"
     },
     "output_type": "display_data"
    }
   ],
   "source": [
    "dist='dgamma'\n",
    "datos=np.array(nac_civil.probabilidad,dtype=float)\n",
    "parametros=getattr(st, dist).fit(datos)\n",
    "\n",
    "plt.bar(nac_civil.AMG,nac_civil.probabilidad, label='Histograma de probabilidades')\n",
    "\n",
    "x = np.linspace(0,5,100)\n",
    "y = st.dgamma.pdf(x,parametros[0],parametros[0])\n",
    "\n",
    "pdf = st.dgamma.pdf(x,1,1,1)\n",
    "plt.plot(x,y,'r-',label='Fitted')\n",
    "plt.plot(x,pdf,label='pdf estimada',color='g')\n",
    "plt.legend()\n",
    "plt.show()"
   ]
  },
  {
   "cell_type": "code",
   "execution_count": 26,
   "metadata": {},
   "outputs": [
    {
     "data": {
      "image/png": "[encoded data removed]",
      "text/plain": [
       "<Figure size 432x288 with 1 Axes>"
      ]
     },
     "metadata": {
      "needs_background": "light"
     },
     "output_type": "display_data"
    },
    {
     "name": "stdout",
     "output_type": "stream",
     "text": [
      "media muestral =1.800000, desviación estándar muestral =1.148913\n",
      "media real =0.200000, desviación real muestral =0.232213\n"
     ]
    }
   ],
   "source": [
    "J = 10  # Cantidad de particiones del histograma\n",
    "[freqs,xs,p]=plt.hist(nac_civil.AMG,J,density=True)\n",
    "plt.show()\n",
    "# Se obvia el último valor de x para obtener exactamente J muestras de x\n",
    "xs = xs[:-1] \n",
    "\n",
    "# Media y desviación estándar muestral\n",
    "mus = np.mean(xs)\n",
    "sigmas = np.std(xs)\n",
    "print('media muestral =%f, desviación estándar muestral =%f'%(mus,sigmas))\n",
    "print('media real =%f, desviación real muestral =%f'%((nac_civil.probabilidad).mean(),(nac_civil.probabilidad).std()))"
   ]
  },
  {
   "cell_type": "markdown",
   "metadata": {},
   "source": [
    "Haremos prueba del chi cuadrado para obtener los estadistícos.\n"
   ]
  },
  {
   "cell_type": "code",
   "execution_count": 27,
   "metadata": {},
   "outputs": [
    {
     "name": "stdout",
     "output_type": "stream",
     "text": [
      "Valor de chi cuadrado librería =  Power_divergenceResult(statistic=inf, pvalue=0.0)\n",
      "Estadístico de chi_cuadrado =  12.591587243743977\n",
      "Media muestral = 1.800000 \n",
      "Desviación estándar muestral =1.148913 \n"
     ]
    },
    {
     "name": "stderr",
     "output_type": "stream",
     "text": [
      "C:\\Users\\Ariadna\\Anaconda3\\lib\\site-packages\\scipy\\stats\\stats.py:5982: RuntimeWarning: divide by zero encountered in true_divide\n",
      "  terms = (f_obs.astype(np.float64) - f_exp)**2 / f_exp\n"
     ]
    }
   ],
   "source": [
    "dist='dgamma'\n",
    "datos=np.array(nac_civil.probabilidad,dtype=float)\n",
    "parametros=getattr(st, dist).fit(datos)\n",
    "pi = st.dgamma.pdf(xs, parametros[0],parametros[1])\n",
    "\n",
    "# Cálculo de la esperanza usando la expresión teórica\n",
    "Ei = xs*pi\n",
    "\n",
    "# Cálculo usando la librería estadística de la chi cuadrada\n",
    "Xs = st.chisquare(freqs,Ei)\n",
    "print('Valor de chi cuadrado librería = ',Xs)\n",
    "\n",
    "# Cálculo de Grados de libertad del estadístico\n",
    "p = 3 # Parámetros estimados con los datos\n",
    "m = J-p-1 # grados de libertad\n",
    "\n",
    "Chi_est2 = st.chi2.ppf(q = 0.95,df=m)\n",
    "print('Estadístico de chi_cuadrado = ',Chi_est2)\n",
    "print('Media muestral = %f \\nDesviación estándar muestral =%f '%(mus,sigmas))"
   ]
  },
  {
   "cell_type": "markdown",
   "metadata": {},
   "source": [
    "### Internacional"
   ]
  },
  {
   "cell_type": "code",
   "execution_count": 31,
   "metadata": {},
   "outputs": [
    {
     "data": {
      "text/html": [
       "<div>\n",
       "<style scoped>\n",
       "    .dataframe tbody tr th:only-of-type {\n",
       "        vertical-align: middle;\n",
       "    }\n",
       "\n",
       "    .dataframe tbody tr th {\n",
       "        vertical-align: top;\n",
       "    }\n",
       "\n",
       "    .dataframe thead th {\n",
       "        text-align: right;\n",
       "    }\n",
       "</style>\n",
       "<table border=\"1\" class=\"dataframe\">\n",
       "  <thead>\n",
       "    <tr style=\"text-align: right;\">\n",
       "      <th></th>\n",
       "      <th>AMG</th>\n",
       "      <th>probabilidad</th>\n",
       "    </tr>\n",
       "  </thead>\n",
       "  <tbody>\n",
       "    <tr>\n",
       "      <th>58</th>\n",
       "      <td>Soltero</td>\n",
       "      <td>0.542857</td>\n",
       "    </tr>\n",
       "    <tr>\n",
       "      <th>59</th>\n",
       "      <td>Casado</td>\n",
       "      <td>0.285714</td>\n",
       "    </tr>\n",
       "    <tr>\n",
       "      <th>60</th>\n",
       "      <td>Unión Libre</td>\n",
       "      <td>0.0571429</td>\n",
       "    </tr>\n",
       "    <tr>\n",
       "      <th>61</th>\n",
       "      <td>Viudo</td>\n",
       "      <td>0.047619</td>\n",
       "    </tr>\n",
       "    <tr>\n",
       "      <th>62</th>\n",
       "      <td>Divorciado</td>\n",
       "      <td>0.0666667</td>\n",
       "    </tr>\n",
       "  </tbody>\n",
       "</table>\n",
       "</div>"
      ],
      "text/plain": [
       "            AMG probabilidad\n",
       "58      Soltero     0.542857\n",
       "59       Casado     0.285714\n",
       "60  Unión Libre    0.0571429\n",
       "61        Viudo     0.047619\n",
       "62   Divorciado    0.0666667"
      ]
     },
     "execution_count": 31,
     "metadata": {},
     "output_type": "execute_result"
    }
   ],
   "source": [
    "int_civil"
   ]
  },
  {
   "cell_type": "code",
   "execution_count": 33,
   "metadata": {},
   "outputs": [
    {
     "data": {
      "image/png": "[encoded data removed]",
      "text/plain": [
       "<Figure size 432x288 with 1 Axes>"
      ]
     },
     "metadata": {
      "needs_background": "light"
     },
     "output_type": "display_data"
    }
   ],
   "source": [
    "plt.bar(int_civil.AMG,nac_civil.probabilidad, label='Histograma de probabilidades')\n",
    "plt.xlabel('Estado Civil')\n",
    "plt.ylabel('Probabilidad')\n",
    "plt.title('Histograma de probabilides estado civil del TURISTA INTERNACIONAL')\n",
    "plt.legend()\n",
    "plt.show()"
   ]
  },
  {
   "cell_type": "code",
   "execution_count": 34,
   "metadata": {},
   "outputs": [
    {
     "name": "stdout",
     "output_type": "stream",
     "text": [
      "beta: statistic=0.199999854684073, pvalue=0.9616002790057689\n",
      "burr: statistic=0.1999998669416874, pvalue=0.9616002554712804\n",
      "exponweib: statistic=0.19999999999992774, pvalue=0.9616000000001387\n",
      "nakagami: statistic=0.20048624248779234, pvalue=0.9608492718849306\n",
      "pareto: statistic=0.22362910072851222, pvalue=0.916156811974089\n",
      "genpareto: statistic=0.2249041050520485, pvalue=0.9131878981350521\n",
      "levy: statistic=0.24718524038825684, pvalue=0.8532069599939912\n",
      "fisk: statistic=0.24805990789360888, pvalue=0.8505555911380345\n",
      "chi: statistic=0.2560218766971857, pvalue=0.8254797555838124\n",
      "frechet_r: statistic=0.26093830958143804, pvalue=0.8091938849433328\n",
      "weibull_min: statistic=0.26093830958143804, pvalue=0.8091938849433328\n",
      "f: statistic=0.26783171340423506, pvalue=0.7854207742770981\n",
      "dgamma: statistic=0.2759825551654491, pvalue=0.7560579641809362\n",
      "hypsecant: statistic=0.2831799802908271, pvalue=0.729180947449015\n",
      "invgauss: statistic=0.28354979163334926, pvalue=0.7277794533651775\n",
      "alpha: statistic=0.2903855126777458, pvalue=0.7015737496177648\n",
      "chi2: statistic=0.2943323044341508, pvalue=0.6862274454446886\n",
      "norminvgauss: statistic=0.29461103602935224, pvalue=0.6851389200329416\n",
      "dweibull: statistic=0.30687303860613907, pvalue=0.6368762400151046\n",
      "logistic: statistic=0.3170509722712605, pvalue=0.5966224037539766\n",
      "t: statistic=0.3171540316367282, pvalue=0.596215340420456\n",
      "gengamma: statistic=0.3180179525819252, pvalue=0.5928040017600165\n",
      "recipinvgauss: statistic=0.3225063450246414, pvalue=0.575116449395354\n",
      "gumbel_l: statistic=0.32748316312752623, pvalue=0.5556024536554945\n",
      "loglaplace: statistic=0.32889749451589495, pvalue=0.5500814847000214\n",
      "pearson3: statistic=0.3295572536843082, pvalue=0.5475103387713537\n",
      "halfcauchy: statistic=0.3350087136903884, pvalue=0.5263842139053561\n",
      "foldcauchy: statistic=0.33531525713633126, pvalue=0.5252032046707252\n",
      "gennorm: statistic=0.3432584761824692, pvalue=0.4949097177050543\n",
      "loggamma: statistic=0.3462312114810507, pvalue=0.483746115451579\n",
      "ncx2: statistic=0.34862438522053796, pvalue=0.4748372911442911\n",
      "halfgennorm: statistic=0.3495144880552047, pvalue=0.4715426407244211\n",
      "norm: statistic=0.3551346325979343, pvalue=0.45099400818869506\n",
      "crystalball: statistic=0.355134688377171, pvalue=0.4509938065336129\n",
      "powerlognorm: statistic=0.35887892501717733, pvalue=0.4375669533727722\n",
      "gilbrat: statistic=0.36029826968982126, pvalue=0.4325364302810698\n",
      "frechet_l: statistic=0.36451888707528524, pvalue=0.41778188251007264\n",
      "weibull_max: statistic=0.36451888707528524, pvalue=0.41778188251007264\n",
      "genlogistic: statistic=0.3651921600838579, pvalue=0.4154576328694004\n",
      "gumbel_r: statistic=0.3659020157610736, pvalue=0.4130161429809829\n",
      "moyal: statistic=0.3679663301523408, pvalue=0.4059699178551963\n",
      "arcsine: statistic=0.3688187254424846, pvalue=0.4030842267864019\n",
      "erlang: statistic=0.3710102011634121, pvalue=0.3957309280632514\n",
      "wald: statistic=0.37164590463477487, pvalue=0.39361592462319783\n",
      "levy_l: statistic=0.3766286526875944, pvalue=0.37733034691742895\n",
      "cauchy: statistic=0.3770071250332502, pvalue=0.3761151400522206\n",
      "ncf: statistic=0.3791506113064283, pvalue=0.36929286596630595\n",
      "maxwell: statistic=0.3855616317026297, pvalue=0.3495214364446845\n",
      "cosine: statistic=0.39096471314327386, pvalue=0.3336387069629688\n",
      "gausshyper: statistic=0.39482423344123696, pvalue=0.3227566339837207\n",
      "rice: statistic=0.40754886113993355, pvalue=0.2893584492348269\n",
      "rayleigh: statistic=0.4075760379198635, pvalue=0.28928978885070367\n",
      "gamma: statistic=0.41068186110690114, pvalue=0.28150646073582275\n",
      "johnsonsb: statistic=0.4117346701082524, pvalue=0.278896637554795\n",
      "anglit: statistic=0.4192885933219569, pvalue=0.26059764345844927\n",
      "triang: statistic=0.4314753364369699, pvalue=0.23266610032985846\n",
      "laplace: statistic=0.43835502922680597, pvalue=0.21777041204427117\n",
      "genextreme: statistic=0.43933329695843026, pvalue=0.21570351777171415\n",
      "exponpow: statistic=0.4403990675808356, pvalue=0.21346626146239012\n",
      "semicircular: statistic=0.46598962193506654, pvalue=0.1642724868887433\n",
      "ksone: statistic=0.4741748640594287, pvalue=0.15035197258868527\n",
      "exponnorm: statistic=0.4816188868112232, pvalue=0.13843999670101936\n",
      "gompertz: statistic=0.4823417289395042, pvalue=0.13732082834845105\n",
      "expon: statistic=0.4824969025845954, pvalue=0.13708143540537743\n",
      "genexpon: statistic=0.48249945335390326, pvalue=0.13707750276541408\n",
      "lomax: statistic=0.4938620634683531, pvalue=0.12036648763879665\n",
      "mielke: statistic=0.5104982270089817, pvalue=0.09873246669028458\n",
      "halflogistic: statistic=0.5266733561464465, pvalue=0.08075858160490068\n",
      "powerlaw: statistic=0.5303646098632965, pvalue=0.0770574963940891\n",
      "genhalflogistic: statistic=0.5358296761536998, pvalue=0.0718394027027739\n",
      "bradford: statistic=0.5379717126091216, pvalue=0.06987747618085369\n",
      "skewnorm: statistic=0.5382695209441254, pvalue=0.06960836392076883\n",
      "foldnorm: statistic=0.5383727729003785, pvalue=0.06951526827435064\n",
      "halfnorm: statistic=0.5389740750081692, pvalue=0.06897522815735618\n",
      "truncexpon: statistic=0.5418993915389893, pvalue=0.06639905697810407\n",
      "kappa4: statistic=0.5484766089262612, pvalue=0.0609095056716299\n",
      "tukeylambda: statistic=0.5573430411094605, pvalue=0.05414334926252093\n",
      "uniform: statistic=0.5615384615384615, pvalue=0.0511824069939374\n",
      "vonmises_line: statistic=0.5627810417203991, pvalue=0.05033389512501526\n",
      "invweibull: statistic=0.5707371232557426, pvalue=0.04519600575073317\n",
      "trapz: statistic=0.5866493826019066, pvalue=0.03631617326401581\n",
      "loguniform: statistic=0.6, pvalue=0.03008000000000001\n",
      "reciprocal: statistic=0.6, pvalue=0.03008000000000001\n",
      "truncnorm: statistic=0.6, pvalue=0.03008000000000001\n",
      "lognorm: statistic=0.6199923918048855, pvalue=0.022358152664803854\n",
      "kappa3: statistic=0.6276952786452861, pvalue=0.019838853770340018\n",
      "johnsonsu: statistic=0.6718108609717728, pvalue=0.009428730037766635\n",
      "argus: statistic=0.7333333333333333, pvalue=0.0028418106995884806\n",
      "nct: statistic=0.7613052657357922, pvalue=0.0015667550631600483\n",
      "invgamma: statistic=0.7789061070413446, pvalue=0.0010581496957404982\n",
      "vonmises: statistic=0.9038122257097783, pvalue=1.6467564522379746e-05\n",
      "geninvgauss: statistic=1.000899870451699, pvalue=0.0\n",
      "powernorm: statistic=1.0, pvalue=0.0\n",
      "rdist: statistic=1.0, pvalue=0.0\n",
      "wrapcauchy: statistic=nan, pvalue=nan\n"
     ]
    }
   ],
   "source": [
    "import warnings\n",
    "warnings.filterwarnings(\"ignore\")\n",
    "e=[]\n",
    "y=np.array(int_civil.probabilidad,dtype=float)\n",
    "\n",
    "for dist_name in dist_to: \n",
    "    dist=getattr(st,dist_name)  \n",
    "    param =dist.fit(y)\n",
    "    a=st.kstest(y,dist_name,args=param)#K-S test based on p-values\n",
    "    e.append((dist_name,a[0],a[1]))\n",
    "\n",
    "e.sort(key=lambda x:float(x[2]),reverse=True)#sort by p-values\n",
    "for j in e:\n",
    "    print(\"{}: statistic={}, pvalue={}\".format(j[0], j[1], j[2]))"
   ]
  },
  {
   "cell_type": "markdown",
   "metadata": {},
   "source": [
    "La distribucón que mejor se ajusta a la distribución de probabilidades del estado civil de los turistas internacionales es `beta`"
   ]
  },
  {
   "cell_type": "code",
   "execution_count": 35,
   "metadata": {},
   "outputs": [
    {
     "data": {
      "image/png": "[encoded data removed]",
      "text/plain": [
       "<Figure size 432x288 with 1 Axes>"
      ]
     },
     "metadata": {
      "needs_background": "light"
     },
     "output_type": "display_data"
    }
   ],
   "source": [
    "dist='beta'\n",
    "datos=np.array(int_civil.probabilidad,dtype=float)\n",
    "parametros=getattr(st, dist).fit(datos)\n",
    "\n",
    "plt.bar(int_civil.AMG,int_civil.probabilidad, label='Histograma de probabilidades')\n",
    "\n",
    "x = np.linspace(0,5,100)\n",
    "y = st.beta.pdf(x,parametros[0],parametros[1])\n",
    "\n",
    "pdf = st.beta.pdf(x,1,1)\n",
    "plt.plot(x,y,'r-',label='Fitted')\n",
    "plt.plot(x,pdf,label='pdf estimada',color='g')\n",
    "plt.legend()\n",
    "plt.show()"
   ]
  },
  {
   "cell_type": "code",
   "execution_count": 36,
   "metadata": {},
   "outputs": [
    {
     "data": {
      "image/png": "[encoded data removed]",
      "text/plain": [
       "<Figure size 432x288 with 1 Axes>"
      ]
     },
     "metadata": {
      "needs_background": "light"
     },
     "output_type": "display_data"
    },
    {
     "name": "stdout",
     "output_type": "stream",
     "text": [
      "media muestral =1.800000, desviación estándar muestral =1.148913\n",
      "media real =0.200000, desviación real muestral =0.215815\n"
     ]
    }
   ],
   "source": [
    "J = 10  # Cantidad de particiones del histograma\n",
    "[freqs,xs,p]=plt.hist(int_civil.AMG,J,density=True)\n",
    "plt.show()\n",
    "# Se obvia el último valor de x para obtener exactamente J muestras de x\n",
    "xs = xs[:-1] \n",
    "\n",
    "# Media y desviación estándar muestral\n",
    "mus = np.mean(xs)\n",
    "sigmas = np.std(xs)\n",
    "print('media muestral =%f, desviación estándar muestral =%f'%(mus,sigmas))\n",
    "print('media real =%f, desviación real muestral =%f'%((int_civil.probabilidad).mean(),(int_civil.probabilidad).std()))"
   ]
  },
  {
   "cell_type": "markdown",
   "metadata": {},
   "source": [
    "Haremos prueba del chi cuadrado para obtener los estadistícos.\n"
   ]
  },
  {
   "cell_type": "code",
   "execution_count": 37,
   "metadata": {},
   "outputs": [
    {
     "name": "stdout",
     "output_type": "stream",
     "text": [
      "Valor de chi cuadrado librería =  Power_divergenceResult(statistic=nan, pvalue=nan)\n",
      "Estadístico de chi_cuadrado =  12.591587243743977\n",
      "Media muestral = 1.800000 \n",
      "Desviación estándar muestral =1.148913 \n"
     ]
    }
   ],
   "source": [
    "dist='beta'\n",
    "datos=np.array(int_civil.probabilidad,dtype=float)\n",
    "parametros=getattr(st, dist).fit(datos)\n",
    "pi = st.beta.pdf(xs, parametros[0],parametros[1])\n",
    "\n",
    "# Cálculo de la esperanza usando la expresión teórica\n",
    "Ei = xs*pi\n",
    "\n",
    "# Cálculo usando la librería estadística de la chi cuadrada\n",
    "Xs = st.chisquare(freqs,Ei)\n",
    "print('Valor de chi cuadrado librería = ',Xs)\n",
    "\n",
    "# Cálculo de Grados de libertad del estadístico\n",
    "p = 3 # Parámetros estimados con los datos\n",
    "m = J-p-1 # grados de libertad\n",
    "\n",
    "Chi_est2 = st.chi2.ppf(q = 0.95,df=m)\n",
    "print('Estadístico de chi_cuadrado = ',Chi_est2)\n",
    "print('Media muestral = %f \\nDesviación estándar muestral =%f '%(mus,sigmas))"
   ]
  },
  {
   "cell_type": "markdown",
   "metadata": {},
   "source": [
    "## Nodo 3: Nivel de escolaridad"
   ]
  },
  {
   "cell_type": "markdown",
   "metadata": {},
   "source": [
    "### Nacional"
   ]
  },
  {
   "cell_type": "code",
   "execution_count": 38,
   "metadata": {},
   "outputs": [
    {
     "data": {
      "text/html": [
       "<div>\n",
       "<style scoped>\n",
       "    .dataframe tbody tr th:only-of-type {\n",
       "        vertical-align: middle;\n",
       "    }\n",
       "\n",
       "    .dataframe tbody tr th {\n",
       "        vertical-align: top;\n",
       "    }\n",
       "\n",
       "    .dataframe thead th {\n",
       "        text-align: right;\n",
       "    }\n",
       "</style>\n",
       "<table border=\"1\" class=\"dataframe\">\n",
       "  <thead>\n",
       "    <tr style=\"text-align: right;\">\n",
       "      <th></th>\n",
       "      <th>AMG</th>\n",
       "      <th>probabilidad</th>\n",
       "    </tr>\n",
       "  </thead>\n",
       "  <tbody>\n",
       "    <tr>\n",
       "      <th>70</th>\n",
       "      <td>Básico</td>\n",
       "      <td>0.00447427</td>\n",
       "    </tr>\n",
       "    <tr>\n",
       "      <th>71</th>\n",
       "      <td>Intermedio</td>\n",
       "      <td>0.0738255</td>\n",
       "    </tr>\n",
       "    <tr>\n",
       "      <th>72</th>\n",
       "      <td>Medio Superior</td>\n",
       "      <td>0.306488</td>\n",
       "    </tr>\n",
       "    <tr>\n",
       "      <th>73</th>\n",
       "      <td>Superior</td>\n",
       "      <td>0.512304</td>\n",
       "    </tr>\n",
       "    <tr>\n",
       "      <th>74</th>\n",
       "      <td>Posgrado</td>\n",
       "      <td>0.0917226</td>\n",
       "    </tr>\n",
       "    <tr>\n",
       "      <th>75</th>\n",
       "      <td>Sin Estudios</td>\n",
       "      <td>0.0111857</td>\n",
       "    </tr>\n",
       "  </tbody>\n",
       "</table>\n",
       "</div>"
      ],
      "text/plain": [
       "               AMG probabilidad\n",
       "70          Básico   0.00447427\n",
       "71      Intermedio    0.0738255\n",
       "72  Medio Superior     0.306488\n",
       "73        Superior     0.512304\n",
       "74        Posgrado    0.0917226\n",
       "75    Sin Estudios    0.0111857"
      ]
     },
     "execution_count": 38,
     "metadata": {},
     "output_type": "execute_result"
    }
   ],
   "source": [
    "nac_school"
   ]
  },
  {
   "cell_type": "code",
   "execution_count": 39,
   "metadata": {},
   "outputs": [
    {
     "data": {
      "image/png": "[encoded data removed]",
      "text/plain": [
       "<Figure size 432x288 with 1 Axes>"
      ]
     },
     "metadata": {
      "needs_background": "light"
     },
     "output_type": "display_data"
    }
   ],
   "source": [
    "plt.bar(nac_school.AMG,nac_school.probabilidad, label='Histograma de probabilidades')\n",
    "plt.xlabel('Nivel escolaridad')\n",
    "plt.ylabel('Probabilidad')\n",
    "plt.title('Histograma de probabilides nivel de escolaridad del TURISTA NACIONAL')\n",
    "plt.legend()\n",
    "plt.show()"
   ]
  },
  {
   "cell_type": "code",
   "execution_count": 49,
   "metadata": {},
   "outputs": [
    {
     "name": "stdout",
     "output_type": "stream",
     "text": [
      "nakagami: statistic=0.17038224898872512, pvalue=0.9808857665082968\n",
      "chi: statistic=0.19850634296002073, pvalue=0.9355572203945962\n",
      "pearson3: statistic=0.20556895715864554, pvalue=0.9189422524749281\n",
      "mielke: statistic=0.21130485967421447, pvalue=0.9038686542932808\n",
      "burr: statistic=0.2204403232094328, pvalue=0.8770108687163294\n",
      "recipinvgauss: statistic=0.22269267393532893, pvalue=0.8698700548406313\n",
      "wald: statistic=0.223243599799066, pvalue=0.8680932247694273\n",
      "exponweib: statistic=0.223871268792418, pvalue=0.8660546000964453\n",
      "gilbrat: statistic=0.22777690928189048, pvalue=0.8530341704933746\n",
      "alpha: statistic=0.2295041936377274, pvalue=0.8470965363892153\n",
      "lomax: statistic=0.233384528209229, pvalue=0.8333751336828802\n",
      "gengamma: statistic=0.23588395087626174, pvalue=0.8242693718644395\n",
      "powerlaw: statistic=0.23600683331631916, pvalue=0.823816512358791\n",
      "frechet_r: statistic=0.2432644140180635, pvalue=0.7962720022171365\n",
      "weibull_min: statistic=0.2432644140180635, pvalue=0.7962720022171365\n",
      "genpareto: statistic=0.24614248886971518, pvalue=0.7849534201798196\n",
      "hypsecant: statistic=0.2465384418841945, pvalue=0.7833806023469002\n",
      "moyal: statistic=0.25105778202514273, pvalue=0.7651871077396502\n",
      "gennorm: statistic=0.2541461068398515, pvalue=0.7525247972547427\n",
      "f: statistic=0.2584665195233166, pvalue=0.7345377313602859\n",
      "kappa3: statistic=0.2590649179427211, pvalue=0.7320236536295739\n",
      "cauchy: statistic=0.26714842823380924, pvalue=0.6976112562650288\n",
      "t: statistic=0.2676274023571975, pvalue=0.6955497317361676\n",
      "exponpow: statistic=0.2692839394990334, pvalue=0.6884042985490962\n",
      "ncf: statistic=0.2719996600455405, pvalue=0.6766437109518324\n",
      "dgamma: statistic=0.272735877388817, pvalue=0.6734469221735492\n",
      "logistic: statistic=0.27431753888491345, pvalue=0.6665686807748257\n",
      "halfcauchy: statistic=0.27464144762387116, pvalue=0.6651585106643725\n",
      "foldcauchy: statistic=0.2748518391817439, pvalue=0.664242288106766\n",
      "genlogistic: statistic=0.279213495044482, pvalue=0.6452120933002878\n",
      "gumbel_r: statistic=0.27933716160300603, pvalue=0.6446718106282339\n",
      "frechet_l: statistic=0.2799552617730808, pvalue=0.6419710731104515\n",
      "weibull_max: statistic=0.2799552617730808, pvalue=0.6419710731104515\n",
      "laplace: statistic=0.2821393263371494, pvalue=0.6324253768741077\n",
      "chi2: statistic=0.2885192810774131, pvalue=0.604572251532121\n",
      "norminvgauss: statistic=0.2909517385103932, pvalue=0.5939906912404596\n",
      "exponnorm: statistic=0.29146745595988527, pvalue=0.5917514739989151\n",
      "invgauss: statistic=0.29229095446006065, pvalue=0.5881794113295138\n",
      "genexpon: statistic=0.29279758632312924, pvalue=0.5859840991722125\n",
      "expon: statistic=0.29279845920249675, pvalue=0.5859803184230263\n",
      "invgamma: statistic=0.29532300697620567, pvalue=0.575070289342259\n",
      "levy: statistic=0.2961238999129731, pvalue=0.5716204423487705\n",
      "gompertz: statistic=0.2975416187589591, pvalue=0.5655285537862194\n",
      "dweibull: statistic=0.300968804573131, pvalue=0.5508910749827531\n",
      "nct: statistic=0.3023451797967999, pvalue=0.545052485622614\n",
      "ncx2: statistic=0.3090565820893899, pvalue=0.5169774631039663\n",
      "loglaplace: statistic=0.30918320829689594, pvalue=0.5164548197235166\n",
      "loggamma: statistic=0.3239322224927708, pvalue=0.45786373050392026\n",
      "crystalball: statistic=0.32455560534290007, pvalue=0.4555023210954784\n",
      "norm: statistic=0.32455560705401076, pvalue=0.45550231462814306\n",
      "gumbel_l: statistic=0.3246684089109018, pvalue=0.4550761405830427\n",
      "pareto: statistic=0.33308433451939223, pvalue=0.42431674776169614\n",
      "arcsine: statistic=0.33384475737057884, pvalue=0.4216419594556351\n",
      "maxwell: statistic=0.3354967581294282, pvalue=0.4158594652824912\n",
      "halflogistic: statistic=0.3439173597153965, pvalue=0.38698342639940686\n",
      "rice: statistic=0.34778263071225235, pvalue=0.3740775470528118\n",
      "rayleigh: statistic=0.3478618566577124, pvalue=0.37381538895287336\n",
      "halfgennorm: statistic=0.3580389437962371, pvalue=0.340957444449729\n",
      "cosine: statistic=0.36618259298822753, pvalue=0.31587604437659644\n",
      "tukeylambda: statistic=0.3669218648695699, pvalue=0.3136541991821655\n",
      "skewnorm: statistic=0.38894894602447033, pvalue=0.25180727828288374\n",
      "halfnorm: statistic=0.38902307731278774, pvalue=0.2516136285420765\n",
      "foldnorm: statistic=0.389050191773496, pvalue=0.2515428232884378\n",
      "anglit: statistic=0.3960345546101422, pvalue=0.23374401233472453\n",
      "gausshyper: statistic=0.399396978774253, pvalue=0.22548840389350533\n",
      "levy_l: statistic=0.4035483786691971, pvalue=0.2155767572062265\n",
      "bradford: statistic=0.4039987355473193, pvalue=0.21452018038931786\n",
      "truncexpon: statistic=0.40913061066799866, pvalue=0.20273804264983086\n",
      "powerlognorm: statistic=0.43952646707765974, pvalue=0.14250481221095757\n",
      "semicircular: statistic=0.4398851480867825, pvalue=0.14188898866288024\n",
      "triang: statistic=0.4407092493563942, pvalue=0.140482189635057\n",
      "beta: statistic=0.4552652021689785, pvalue=0.11745360435038343\n",
      "genextreme: statistic=0.45534915523115227, pvalue=0.11733051927045679\n",
      "gamma: statistic=0.4663937995302279, pvalue=0.10206312868978829\n",
      "kappa4: statistic=0.4713005408217078, pvalue=0.0958477002089615\n",
      "johnsonsu: statistic=0.4834529653512347, pvalue=0.08184265505465393\n",
      "uniform: statistic=0.49486049926578557, pvalue=0.07032319472282056\n",
      "ksone: statistic=0.4956160500540089, pvalue=0.0696102969607455\n",
      "truncnorm: statistic=0.4999727845431279, pvalue=0.06561082476436986\n",
      "loguniform: statistic=0.4999977947587542, pvalue=0.06558839700624208\n",
      "reciprocal: statistic=0.4999977947587542, pvalue=0.06558839700624208\n",
      "argus: statistic=0.5, pvalue=0.06558641975308642\n",
      "vonmises_line: statistic=0.5007466217196437, pvalue=0.06491962347431784\n",
      "erlang: statistic=0.5201701213778496, pvalue=0.04934471612401161\n",
      "genhalflogistic: statistic=0.5299923895468932, pvalue=0.04268478137387849\n",
      "fisk: statistic=0.5431867185909822, pvalue=0.03489859604665629\n",
      "lognorm: statistic=0.5769405444856611, pvalue=0.02015868606769976\n",
      "trapz: statistic=0.6136264122980372, pvalue=0.010561517985834079\n",
      "invweibull: statistic=0.6455541151038544, pvalue=0.005778193321547058\n",
      "johnsonsb: statistic=0.7401358663619104, pvalue=0.0006783441845204947\n",
      "geninvgauss: statistic=0.7648773106651795, pvalue=0.00035170552206013265\n",
      "powernorm: statistic=1.0, pvalue=0.0\n",
      "rdist: statistic=1.0, pvalue=0.0\n",
      "vonmises: statistic=826.861784652417, pvalue=0.0\n",
      "wrapcauchy: statistic=nan, pvalue=nan\n"
     ]
    }
   ],
   "source": [
    "import warnings\n",
    "warnings.filterwarnings(\"ignore\")\n",
    "e=[]\n",
    "y=np.array(nac_school.probabilidad,dtype=float)\n",
    "\n",
    "for dist_name in dist_to: \n",
    "    dist=getattr(st,dist_name)  \n",
    "    param =dist.fit(y)\n",
    "    a=st.kstest(y,dist_name,args=param)#K-S test based on p-values\n",
    "    e.append((dist_name,a[0],a[1]))\n",
    "\n",
    "e.sort(key=lambda x:float(x[2]),reverse=True)#sort by p-values\n",
    "for j in e:\n",
    "    print(\"{}: statistic={}, pvalue={}\".format(j[0], j[1], j[2]))"
   ]
  },
  {
   "cell_type": "markdown",
   "metadata": {},
   "source": [
    "La distribucón que mejor se ajusta a la distribución de probabilidades del nivel escolar de los turistas nacionales es `nakagami`"
   ]
  },
  {
   "cell_type": "code",
   "execution_count": 47,
   "metadata": {},
   "outputs": [
    {
     "data": {
      "image/png": "[encoded data removed]",
      "text/plain": [
       "<Figure size 432x288 with 1 Axes>"
      ]
     },
     "metadata": {
      "needs_background": "light"
     },
     "output_type": "display_data"
    }
   ],
   "source": [
    "dist='nakagami'\n",
    "datos=np.array(nac_school.probabilidad,dtype=float)\n",
    "parametros=getattr(st, dist).fit(datos)\n",
    "\n",
    "plt.bar(nac_school.AMG,nac_school.probabilidad, label='Histograma de probabilidades')\n",
    "\n",
    "x = np.linspace(0,5,10)\n",
    "y = st.nakagami.pdf(x,parametros[0],parametros[0],parametros[2])\n",
    "\n",
    "pdf = st.nakagami.pdf(x,1,1,1)\n",
    "plt.plot(x,y,'r-',label='Fitted')\n",
    "plt.plot(x,pdf,label='pdf estimada',color='g')\n",
    "plt.legend()\n",
    "plt.show()"
   ]
  },
  {
   "cell_type": "code",
   "execution_count": 49,
   "metadata": {},
   "outputs": [
    {
     "data": {
      "image/png": "[encoded data removed]",
      "text/plain": [
       "<Figure size 432x288 with 1 Axes>"
      ]
     },
     "metadata": {
      "needs_background": "light"
     },
     "output_type": "display_data"
    },
    {
     "name": "stdout",
     "output_type": "stream",
     "text": [
      "media muestral =2.250000, desviación estándar muestral =1.436141\n",
      "media real =0.166667, desviación real muestral =0.201857\n"
     ]
    }
   ],
   "source": [
    "J = 10  # Cantidad de particiones del histograma\n",
    "[freqs,xs,p]=plt.hist(nac_school.AMG,J,density=True)\n",
    "plt.show()\n",
    "# Se obvia el último valor de x para obtener exactamente J muestras de x\n",
    "xs = xs[:-1] \n",
    "\n",
    "# Media y desviación estándar muestral\n",
    "mus = np.mean(xs)\n",
    "sigmas = np.std(xs)\n",
    "print('media muestral =%f, desviación estándar muestral =%f'%(mus,sigmas))\n",
    "print('media real =%f, desviación real muestral =%f'%((nac_school.probabilidad).mean(),(nac_school.probabilidad).std()))"
   ]
  },
  {
   "cell_type": "markdown",
   "metadata": {},
   "source": [
    "Haremos prueba del chi cuadrado para obtener los estadistícos.\n"
   ]
  },
  {
   "cell_type": "code",
   "execution_count": 50,
   "metadata": {},
   "outputs": [
    {
     "name": "stdout",
     "output_type": "stream",
     "text": [
      "Valor de chi cuadrado librería =  Power_divergenceResult(statistic=inf, pvalue=0.0)\n",
      "Estadístico de chi_cuadrado =  12.591587243743977\n",
      "Media muestral = 2.250000 \n",
      "Desviación estándar muestral =1.436141 \n"
     ]
    }
   ],
   "source": [
    "dist='nakagami'\n",
    "datos=np.array(nac_school.probabilidad,dtype=float)\n",
    "parametros=getattr(st, dist).fit(datos)\n",
    "pi = st.nakagami.pdf(xs, parametros[0],parametros[1],parametros[2])\n",
    "\n",
    "# Cálculo de la esperanza usando la expresión teórica\n",
    "Ei = xs*pi\n",
    "\n",
    "# Cálculo usando la librería estadística de la chi cuadrada\n",
    "Xs = st.chisquare(freqs,Ei)\n",
    "print('Valor de chi cuadrado librería = ',Xs)\n",
    "\n",
    "# Cálculo de Grados de libertad del estadístico\n",
    "p = 3 # Parámetros estimados con los datos\n",
    "m = J-p-1 # grados de libertad\n",
    "\n",
    "Chi_est2 = st.chi2.ppf(q = 0.95,df=m)\n",
    "print('Estadístico de chi_cuadrado = ',Chi_est2)\n",
    "print('Media muestral = %f \\nDesviación estándar muestral =%f '%(mus,sigmas))\n",
    "\n"
   ]
  },
  {
   "cell_type": "markdown",
   "metadata": {},
   "source": [
    "### Internacional"
   ]
  },
  {
   "cell_type": "code",
   "execution_count": 51,
   "metadata": {},
   "outputs": [
    {
     "data": {
      "text/html": [
       "<div>\n",
       "<style scoped>\n",
       "    .dataframe tbody tr th:only-of-type {\n",
       "        vertical-align: middle;\n",
       "    }\n",
       "\n",
       "    .dataframe tbody tr th {\n",
       "        vertical-align: top;\n",
       "    }\n",
       "\n",
       "    .dataframe thead th {\n",
       "        text-align: right;\n",
       "    }\n",
       "</style>\n",
       "<table border=\"1\" class=\"dataframe\">\n",
       "  <thead>\n",
       "    <tr style=\"text-align: right;\">\n",
       "      <th></th>\n",
       "      <th>AMG</th>\n",
       "      <th>probabilidad</th>\n",
       "    </tr>\n",
       "  </thead>\n",
       "  <tbody>\n",
       "    <tr>\n",
       "      <th>81</th>\n",
       "      <td>Básico</td>\n",
       "      <td>0.0196078</td>\n",
       "    </tr>\n",
       "    <tr>\n",
       "      <th>82</th>\n",
       "      <td>Intermedio</td>\n",
       "      <td>0.0588235</td>\n",
       "    </tr>\n",
       "    <tr>\n",
       "      <th>83</th>\n",
       "      <td>Medio Superior</td>\n",
       "      <td>0.22549</td>\n",
       "    </tr>\n",
       "    <tr>\n",
       "      <th>84</th>\n",
       "      <td>Superior</td>\n",
       "      <td>0.558824</td>\n",
       "    </tr>\n",
       "    <tr>\n",
       "      <th>85</th>\n",
       "      <td>Posgrado</td>\n",
       "      <td>0.137255</td>\n",
       "    </tr>\n",
       "    <tr>\n",
       "      <th>86</th>\n",
       "      <td>Sin Estudios</td>\n",
       "      <td>0</td>\n",
       "    </tr>\n",
       "  </tbody>\n",
       "</table>\n",
       "</div>"
      ],
      "text/plain": [
       "               AMG probabilidad\n",
       "81          Básico    0.0196078\n",
       "82      Intermedio    0.0588235\n",
       "83  Medio Superior      0.22549\n",
       "84        Superior     0.558824\n",
       "85        Posgrado     0.137255\n",
       "86    Sin Estudios            0"
      ]
     },
     "execution_count": 51,
     "metadata": {},
     "output_type": "execute_result"
    }
   ],
   "source": [
    "int_school"
   ]
  },
  {
   "cell_type": "code",
   "execution_count": 52,
   "metadata": {},
   "outputs": [
    {
     "data": {
      "image/png": "[encoded data removed]",
      "text/plain": [
       "<Figure size 432x288 with 1 Axes>"
      ]
     },
     "metadata": {
      "needs_background": "light"
     },
     "output_type": "display_data"
    }
   ],
   "source": [
    "plt.bar(int_school.AMG,nac_school.probabilidad, label='Histograma de probabilidades')\n",
    "plt.xlabel('Nivel escolaridad')\n",
    "plt.ylabel('Probabilidad')\n",
    "plt.title('Histograma de probabilides nivel de escolaridad del TURISTA INTERNACIONAL')\n",
    "plt.legend()\n",
    "plt.show()"
   ]
  },
  {
   "cell_type": "code",
   "execution_count": 53,
   "metadata": {},
   "outputs": [
    {
     "name": "stdout",
     "output_type": "stream",
     "text": [
      "ncx2: statistic=0.16666666323352305, pvalue=0.9845679050491716\n",
      "geninvgauss: statistic=0.16666666400003685, pvalue=0.9845679041974896\n",
      "burr: statistic=0.16666666663280535, pvalue=0.9845679012721916\n",
      "nakagami: statistic=0.1666666666589808, pvalue=0.9845679012431078\n",
      "exponpow: statistic=0.1666666666651107, pvalue=0.9845679012362968\n",
      "mielke: statistic=0.16666666666666424, pvalue=0.9845679012345706\n",
      "chi: statistic=0.16666666666666569, pvalue=0.9845679012345689\n",
      "gengamma: statistic=0.16666666666666666, pvalue=0.9845679012345679\n",
      "pareto: statistic=0.16720132626674117, pvalue=0.9840679106985544\n",
      "genpareto: statistic=0.16730685811065474, pvalue=0.9839680520196626\n",
      "gilbrat: statistic=0.16824082085902192, pvalue=0.9830673657189798\n",
      "wald: statistic=0.16878174459089312, pvalue=0.9825317031305548\n",
      "invweibull: statistic=0.1786064841456707, pvalue=0.970930556971424\n",
      "genextreme: statistic=0.1786156869849237, pvalue=0.9709179638524192\n",
      "levy: statistic=0.1810243268364038, pvalue=0.9675066071957887\n",
      "invgamma: statistic=0.18185537362898496, pvalue=0.9662757868179452\n",
      "halfcauchy: statistic=0.18306329883869368, pvalue=0.9644370123598561\n",
      "foldcauchy: statistic=0.183086177274661, pvalue=0.964401613544611\n",
      "alpha: statistic=0.1844842888562227, pvalue=0.9621977842354065\n",
      "nct: statistic=0.18459232031812944, pvalue=0.9620241597990312\n",
      "lomax: statistic=0.18501269378041021, pvalue=0.9613439779970503\n",
      "pearson3: statistic=0.18765396501320641, pvalue=0.9569028023371822\n",
      "frechet_r: statistic=0.18768569875104402, pvalue=0.9568476765203027\n",
      "weibull_min: statistic=0.18768569875104402, pvalue=0.9568476765203027\n",
      "invgauss: statistic=0.19131352401605062, pvalue=0.9502662065002715\n",
      "norminvgauss: statistic=0.19267908616621543, pvalue=0.9476443129359753\n",
      "f: statistic=0.19510271343795504, pvalue=0.9427945664783509\n",
      "recipinvgauss: statistic=0.1984393622576447, pvalue=0.935704468899586\n",
      "exponweib: statistic=0.20257651298324464, pvalue=0.9262453143645576\n",
      "moyal: statistic=0.2027176675016681, pvalue=0.9259095182832763\n",
      "gompertz: statistic=0.20624882251142138, pvalue=0.9172292143807115\n",
      "dweibull: statistic=0.21185180530158987, pvalue=0.9023581890102764\n",
      "genlogistic: statistic=0.21271927149402897, pvalue=0.8999367051797136\n",
      "gennorm: statistic=0.21298704518211126, pvalue=0.8991828411388965\n",
      "loglaplace: statistic=0.21319381387447855, pvalue=0.8985986672783218\n",
      "frechet_l: statistic=0.2133326573383782, pvalue=0.8982053943104873\n",
      "weibull_max: statistic=0.2133326573383782, pvalue=0.8982053943104873\n",
      "gumbel_r: statistic=0.2133745336360438, pvalue=0.8980866216448259\n",
      "logistic: statistic=0.2141256647041703, pvalue=0.8959437622197403\n",
      "vonmises_line: statistic=0.2147711667979526, pvalue=0.8940834607068576\n",
      "exponnorm: statistic=0.2211777906875821, pvalue=0.8746948014491036\n",
      "genexpon: statistic=0.22233930041134317, pvalue=0.8710035400217023\n",
      "expon: statistic=0.22234309873610894, pvalue=0.8709913823333624\n",
      "hypsecant: statistic=0.2254040818896584, pvalue=0.8610128348879265\n",
      "loggamma: statistic=0.2265854575430165, pvalue=0.8570665516762792\n",
      "norm: statistic=0.22782109442489806, pvalue=0.8528836273653907\n",
      "crystalball: statistic=0.2278216973243719, pvalue=0.8528815727349812\n",
      "fisk: statistic=0.2326571771180444, pvalue=0.8359863830146075\n",
      "t: statistic=0.23562894496715792, pvalue=0.8252076218872738\n",
      "maxwell: statistic=0.242008313709977, pvalue=0.8011457040931658\n",
      "gamma: statistic=0.24520267652955674, pvalue=0.7886717754610533\n",
      "dgamma: statistic=0.24850532981962703, pvalue=0.775515240932074\n",
      "laplace: statistic=0.24887074861249536, pvalue=0.7740447249617477\n",
      "powerlaw: statistic=0.2567090620286857, pvalue=0.7418904309637955\n",
      "rayleigh: statistic=0.2603013498281349, pvalue=0.7268128209411702\n",
      "rice: statistic=0.26035684851433705, pvalue=0.7265784297230037\n",
      "halfgennorm: statistic=0.2680272068086008, pvalue=0.6938273582557266\n",
      "cauchy: statistic=0.2706542108454507, pvalue=0.6824768718532455\n",
      "halflogistic: statistic=0.2780798864522317, pvalue=0.6501633306891441\n",
      "gumbel_l: statistic=0.2782196379684061, pvalue=0.6495530890884738\n",
      "cosine: statistic=0.2865307365227618, pvalue=0.6132424636788469\n",
      "erlang: statistic=0.28748992483260194, pvalue=0.6090584819939378\n",
      "bradford: statistic=0.31443187867644107, pvalue=0.49505721155023463\n",
      "halfnorm: statistic=0.31644856777251595, pvalue=0.48698510659026384\n",
      "skewnorm: statistic=0.3165342435821006, pvalue=0.4866441508810103\n",
      "foldnorm: statistic=0.3165642803360149, pvalue=0.4865246553921453\n",
      "truncexpon: statistic=0.32469180519716373, pvalue=0.4549877910585888\n",
      "anglit: statistic=0.32792789925369137, pvalue=0.44291483587017155\n",
      "gausshyper: statistic=0.32840011934926516, pvalue=0.4411781946041121\n",
      "tukeylambda: statistic=0.3333306452745125, pvalue=0.42344910144820236\n",
      "arcsine: statistic=0.3567121264446184, pvalue=0.34514750915328263\n",
      "chi2: statistic=0.3651239117671915, pvalue=0.3190739677738579\n",
      "ncf: statistic=0.3704658992207399, pvalue=0.30313213219762924\n",
      "argus: statistic=0.3903261560088128, pvalue=0.24822574506243145\n",
      "beta: statistic=0.3979147034780756, pvalue=0.2291026544573319\n",
      "kappa4: statistic=0.409423440448545, pvalue=0.20208001208558968\n",
      "levy_l: statistic=0.41929520897783545, pvalue=0.1807931783564536\n",
      "lognorm: statistic=0.4195230894117412, pvalue=0.18032225095802423\n",
      "uniform: statistic=0.42982456140350883, pvalue=0.15998538087563796\n",
      "triang: statistic=0.44195922133146204, pvalue=0.13836989805132827\n",
      "ksone: statistic=0.4424100972763993, pvalue=0.13761431281514724\n",
      "johnsonsu: statistic=0.4551850515383321, pvalue=0.1175712160449881\n",
      "kappa3: statistic=0.4647550683336996, pvalue=0.10421484382030066\n",
      "powerlognorm: statistic=0.497503287315748, pvalue=0.06785487595900808\n",
      "truncnorm: statistic=0.5, pvalue=0.06558641975308642\n",
      "genhalflogistic: statistic=0.5492530538181406, pvalue=0.03173189788773912\n",
      "johnsonsb: statistic=0.6440999508296704, pvalue=0.005944842211055188\n",
      "trapz: statistic=0.6537630756044596, pvalue=0.004910964011301778\n",
      "loguniform: statistic=0.655604013505741, pvalue=0.004732603964687508\n",
      "reciprocal: statistic=0.655604013505741, pvalue=0.004732603964687508\n",
      "vonmises: statistic=0.6836805232353441, pvalue=0.002619309856849004\n",
      "powernorm: statistic=1.0, pvalue=0.0\n",
      "rdist: statistic=1.0, pvalue=0.0\n",
      "semicircular: statistic=1.0, pvalue=0.0\n",
      "wrapcauchy: statistic=nan, pvalue=nan\n"
     ]
    }
   ],
   "source": [
    "import warnings\n",
    "warnings.filterwarnings(\"ignore\")\n",
    "e=[]\n",
    "y=np.array(int_school.probabilidad,dtype=float)\n",
    "\n",
    "for dist_name in dist_to: \n",
    "    dist=getattr(st,dist_name)  \n",
    "    param =dist.fit(y)\n",
    "    a=st.kstest(y,dist_name,args=param)#K-S test based on p-values\n",
    "    e.append((dist_name,a[0],a[1]))\n",
    "\n",
    "e.sort(key=lambda x:float(x[2]),reverse=True)#sort by p-values\n",
    "for j in e:\n",
    "    print(\"{}: statistic={}, pvalue={}\".format(j[0], j[1], j[2]))"
   ]
  },
  {
   "cell_type": "markdown",
   "metadata": {},
   "source": [
    "La distribucón que mejor se ajusta a la distribución de probabilidades del nivel escolar de los los turistas internacionales es `ncx2`"
   ]
  },
  {
   "cell_type": "code",
   "execution_count": 54,
   "metadata": {},
   "outputs": [
    {
     "data": {
      "image/png": "[encoded data removed]",
      "text/plain": [
       "<Figure size 432x288 with 1 Axes>"
      ]
     },
     "metadata": {
      "needs_background": "light"
     },
     "output_type": "display_data"
    }
   ],
   "source": [
    "dist='ncx2'\n",
    "datos=np.array(int_school.probabilidad,dtype=float)\n",
    "parametros=getattr(st, dist).fit(datos)\n",
    "\n",
    "plt.bar(int_school.AMG,int_school.probabilidad, label='Histograma de probabilidades')\n",
    "\n",
    "x = np.linspace(0,5,10)\n",
    "y = st.ncx2.pdf(x,parametros[1],parametros[1],parametros[1])\n",
    "\n",
    "pdf = st.ncx2.pdf(x,1,1,1,1)\n",
    "plt.plot(x,y,'r-',label='Fitted')\n",
    "plt.plot(x,pdf,label='pdf estimada',color='g')\n",
    "plt.legend()\n",
    "plt.show()"
   ]
  },
  {
   "cell_type": "code",
   "execution_count": 55,
   "metadata": {},
   "outputs": [
    {
     "data": {
      "image/png": "[encoded data removed]",
      "text/plain": [
       "<Figure size 432x288 with 1 Axes>"
      ]
     },
     "metadata": {
      "needs_background": "light"
     },
     "output_type": "display_data"
    },
    {
     "name": "stdout",
     "output_type": "stream",
     "text": [
      "media muestral =2.250000, desviación estándar muestral =1.436141\n",
      "media real =0.166667, desviación real muestral =0.209354\n"
     ]
    }
   ],
   "source": [
    "J = 10  # Cantidad de particiones del histograma\n",
    "[freqs,xs,p]=plt.hist(int_school.AMG,J,density=True)\n",
    "plt.show()\n",
    "# Se obvia el último valor de x para obtener exactamente J muestras de x\n",
    "xs = xs[:-1] \n",
    "\n",
    "# Media y desviación estándar muestral\n",
    "mus = np.mean(xs)\n",
    "sigmas = np.std(xs)\n",
    "print('media muestral =%f, desviación estándar muestral =%f'%(mus,sigmas))\n",
    "print('media real =%f, desviación real muestral =%f'%((int_school.probabilidad).mean(),(int_school.probabilidad).std()))"
   ]
  },
  {
   "cell_type": "markdown",
   "metadata": {},
   "source": [
    "Haremos prueba del chi cuadrado para obtener los estadistícos.\n"
   ]
  },
  {
   "cell_type": "code",
   "execution_count": 56,
   "metadata": {},
   "outputs": [
    {
     "name": "stdout",
     "output_type": "stream",
     "text": [
      "Valor de chi cuadrado librería =  Power_divergenceResult(statistic=nan, pvalue=nan)\n",
      "Estadístico de chi_cuadrado =  12.591587243743977\n",
      "Media muestral = 2.250000 \n",
      "Desviación estándar muestral =1.436141 \n"
     ]
    }
   ],
   "source": [
    "dist='ncx2'\n",
    "datos=np.array(int_school.probabilidad,dtype=float)\n",
    "parametros=getattr(st, dist).fit(datos)\n",
    "pi = st.ncx2.pdf(xs, parametros[1],parametros[1],parametros[1])\n",
    "\n",
    "# Cálculo de la esperanza usando la expresión teórica\n",
    "Ei = xs*pi\n",
    "\n",
    "# Cálculo usando la librería estadística de la chi cuadrada\n",
    "Xs = st.chisquare(freqs,Ei)\n",
    "print('Valor de chi cuadrado librería = ',Xs)\n",
    "\n",
    "# Cálculo de Grados de libertad del estadístico\n",
    "p = 3 # Parámetros estimados con los datos\n",
    "m = J-p-1 # grados de libertad\n",
    "\n",
    "Chi_est2 = st.chi2.ppf(q = 0.95,df=m)\n",
    "print('Estadístico de chi_cuadrado = ',Chi_est2)\n",
    "print('Media muestral = %f \\nDesviación estándar muestral =%f '%(mus,sigmas))\n",
    "\n"
   ]
  },
  {
   "cell_type": "markdown",
   "metadata": {},
   "source": [
    "## Nodo 4: Motivación para hacer el viaje"
   ]
  },
  {
   "cell_type": "markdown",
   "metadata": {},
   "source": [
    "### Nacional"
   ]
  },
  {
   "cell_type": "code",
   "execution_count": 57,
   "metadata": {},
   "outputs": [
    {
     "data": {
      "text/html": [
       "<div>\n",
       "<style scoped>\n",
       "    .dataframe tbody tr th:only-of-type {\n",
       "        vertical-align: middle;\n",
       "    }\n",
       "\n",
       "    .dataframe tbody tr th {\n",
       "        vertical-align: top;\n",
       "    }\n",
       "\n",
       "    .dataframe thead th {\n",
       "        text-align: right;\n",
       "    }\n",
       "</style>\n",
       "<table border=\"1\" class=\"dataframe\">\n",
       "  <thead>\n",
       "    <tr style=\"text-align: right;\">\n",
       "      <th></th>\n",
       "      <th>AMG</th>\n",
       "      <th>probabilidad</th>\n",
       "    </tr>\n",
       "  </thead>\n",
       "  <tbody>\n",
       "    <tr>\n",
       "      <th>21</th>\n",
       "      <td>DE PASO</td>\n",
       "      <td>0.0178571</td>\n",
       "    </tr>\n",
       "    <tr>\n",
       "      <th>22</th>\n",
       "      <td>OCIO Y RECREACION</td>\n",
       "      <td>0.705357</td>\n",
       "    </tr>\n",
       "    <tr>\n",
       "      <th>23</th>\n",
       "      <td>PROFESIONAL O NEGOCIOS</td>\n",
       "      <td>0.0602679</td>\n",
       "    </tr>\n",
       "    <tr>\n",
       "      <th>24</th>\n",
       "      <td>SALUD</td>\n",
       "      <td>0.0133929</td>\n",
       "    </tr>\n",
       "    <tr>\n",
       "      <th>25</th>\n",
       "      <td>VISITAR AMIGOS Y FAMILIARES</td>\n",
       "      <td>0.0892857</td>\n",
       "    </tr>\n",
       "    <tr>\n",
       "      <th>26</th>\n",
       "      <td>RELIGIOSO</td>\n",
       "      <td>0</td>\n",
       "    </tr>\n",
       "    <tr>\n",
       "      <th>27</th>\n",
       "      <td>OTRO</td>\n",
       "      <td>0.078125</td>\n",
       "    </tr>\n",
       "  </tbody>\n",
       "</table>\n",
       "</div>"
      ],
      "text/plain": [
       "                            AMG probabilidad\n",
       "21                      DE PASO    0.0178571\n",
       "22            OCIO Y RECREACION     0.705357\n",
       "23       PROFESIONAL O NEGOCIOS    0.0602679\n",
       "24                        SALUD    0.0133929\n",
       "25  VISITAR AMIGOS Y FAMILIARES    0.0892857\n",
       "26                    RELIGIOSO            0\n",
       "27                         OTRO     0.078125"
      ]
     },
     "execution_count": 57,
     "metadata": {},
     "output_type": "execute_result"
    }
   ],
   "source": [
    "nac_motiv"
   ]
  },
  {
   "cell_type": "code",
   "execution_count": 59,
   "metadata": {},
   "outputs": [
    {
     "data": {
      "image/png": "[encoded data removed]",
      "text/plain": [
       "<Figure size 432x288 with 1 Axes>"
      ]
     },
     "metadata": {
      "needs_background": "light"
     },
     "output_type": "display_data"
    }
   ],
   "source": [
    "plt.bar(nac_motiv.AMG,nac_motiv.probabilidad, label='Histograma de probabilidades')\n",
    "plt.xlabel('Motivación del viaje')\n",
    "plt.ylabel('Probabilidad')\n",
    "plt.title('Histograma de probabilides motivación del TURISTA NACIONAL')\n",
    "plt.legend()\n",
    "plt.show()"
   ]
  },
  {
   "cell_type": "code",
   "execution_count": 53,
   "metadata": {},
   "outputs": [
    {
     "name": "stdout",
     "output_type": "stream",
     "text": [
      "genpareto: statistic=0.1806603953930111, pvalue=0.9462617376972504\n",
      "lomax: statistic=0.18067583887137834, pvalue=0.9462283447430296\n",
      "pareto: statistic=0.1807051961608777, pvalue=0.9461648311737917\n",
      "halfcauchy: statistic=0.1826158015731874, pvalue=0.9419318291550849\n",
      "ncf: statistic=0.18389593897522177, pvalue=0.9389856698081375\n",
      "invgauss: statistic=0.18526145924005882, pvalue=0.9357453858464784\n",
      "geninvgauss: statistic=0.18757792448979593, pvalue=0.9300176263679957\n",
      "genextreme: statistic=0.19000024636948926, pvalue=0.9237172900677253\n",
      "invgamma: statistic=0.19282446384223823, pvalue=0.915971947936111\n",
      "nct: statistic=0.1991448420390705, pvalue=0.8971038376355408\n",
      "alpha: statistic=0.19954359284283546, pvalue=0.8958437747675189\n",
      "gamma: statistic=0.20037299964163768, pvalue=0.8931969177026753\n",
      "levy: statistic=0.20233322481254457, pvalue=0.8868038531824286\n",
      "gilbrat: statistic=0.20562525070129584, pvalue=0.8756437048015148\n",
      "halfgennorm: statistic=0.20846236702316195, pvalue=0.8656170545831291\n",
      "norminvgauss: statistic=0.20957675997690645, pvalue=0.8615796992073327\n",
      "pearson3: statistic=0.21565032720483024, pvalue=0.8386680120529314\n",
      "loglaplace: statistic=0.2191355435443918, pvalue=0.8248871290058268\n",
      "f: statistic=0.22364309387206327, pvalue=0.8064449556536254\n",
      "t: statistic=0.22677349434493463, pvalue=0.7932608421883389\n",
      "cauchy: statistic=0.23153140973248737, pvalue=0.772695226395038\n",
      "gengamma: statistic=0.23172778749140444, pvalue=0.771833869558539\n",
      "wald: statistic=0.23807841333301694, pvalue=0.7435133528440965\n",
      "gennorm: statistic=0.23832533826970392, pvalue=0.7423956747179166\n",
      "nakagami: statistic=0.2388798968864071, pvalue=0.7398815196787321\n",
      "recipinvgauss: statistic=0.2559700183982626, pvalue=0.6605726858029168\n",
      "gausshyper: statistic=0.27212570848173523, pvalue=0.5854701863199767\n",
      "burr: statistic=0.2932915781645602, pvalue=0.49378490894468885\n",
      "dgamma: statistic=0.2961930191067622, pvalue=0.4818079091294447\n",
      "laplace: statistic=0.3028633877947753, pvalue=0.4547091070675032\n",
      "erlang: statistic=0.3036139295176654, pvalue=0.45170071336826734\n",
      "fisk: statistic=0.30938347588208764, pvalue=0.42887139600427193\n",
      "dweibull: statistic=0.3156796612804431, pvalue=0.40459628004564485\n",
      "hypsecant: statistic=0.3190160252001671, pvalue=0.3920209219264049\n",
      "foldcauchy: statistic=0.32346066191533945, pvalue=0.37559427528608524\n",
      "logistic: statistic=0.3269306710838631, pvalue=0.36303765657821874\n",
      "mielke: statistic=0.33751679967578685, pvalue=0.32625173759310644\n",
      "moyal: statistic=0.34736231885605695, pvalue=0.29419119292478735\n",
      "exponpow: statistic=0.35081029975935485, pvalue=0.28346987798224366\n",
      "vonmises_line: statistic=0.35751765578503675, pvalue=0.26337946287771263\n",
      "chi: statistic=0.3619689303823739, pvalue=0.25060908416125927\n",
      "gumbel_r: statistic=0.36745436687728833, pvalue=0.23549127404303816\n",
      "frechet_l: statistic=0.36770583549782626, pvalue=0.23481462540856313\n",
      "weibull_max: statistic=0.36770583549782626, pvalue=0.23481462540856313\n",
      "genlogistic: statistic=0.36780384971838664, pvalue=0.23455127897248695\n",
      "ncx2: statistic=0.37703051701571505, pvalue=0.21073482365956608\n",
      "exponnorm: statistic=0.37817553333221066, pvalue=0.20791299413742115\n",
      "frechet_r: statistic=0.3790498013993233, pvalue=0.20577815081299267\n",
      "weibull_min: statistic=0.3790498013993233, pvalue=0.20577815081299267\n",
      "genexpon: statistic=0.38003086470248604, pvalue=0.2034028338146514\n",
      "expon: statistic=0.3801562810353518, pvalue=0.20310072555532355\n",
      "gompertz: statistic=0.38602423516832785, pvalue=0.18935479810203237\n",
      "lognorm: statistic=0.43321475448562463, pvalue=0.10394825408619401\n",
      "gumbel_l: statistic=0.4373643392069443, pvalue=0.09824542115964352\n",
      "norm: statistic=0.4392317657580509, pvalue=0.09575894166007459\n",
      "crystalball: statistic=0.4392318041118451, pvalue=0.0957588910960463\n",
      "loggamma: statistic=0.4416154666556921, pvalue=0.0926560421966326\n",
      "maxwell: statistic=0.462327638978059, pvalue=0.06888483936102241\n",
      "johnsonsb: statistic=0.4717286132289148, pvalue=0.05985374817437594\n",
      "levy_l: statistic=0.4720302314218554, pvalue=0.059580880943907455\n",
      "halflogistic: statistic=0.4773995705077341, pvalue=0.05489219247129662\n",
      "rice: statistic=0.48397874463493057, pvalue=0.049568418936780434\n",
      "rayleigh: statistic=0.4840052767787797, pvalue=0.04954785726386657\n",
      "powerlaw: statistic=0.4863998511386947, pvalue=0.04772136520249104\n",
      "exponweib: statistic=0.4876780810453961, pvalue=0.04676979026806516\n",
      "chi2: statistic=0.4995936428366961, pvalue=0.0386460353551904\n",
      "powerlognorm: statistic=0.5077250994626403, pvalue=0.033823890118591333\n",
      "cosine: statistic=0.5159137148099961, pvalue=0.029503005126003807\n",
      "arcsine: statistic=0.5580908025580226, pvalue=0.014010775720355478\n",
      "johnsonsu: statistic=0.5674467317781944, pvalue=0.011750278363844466\n",
      "tukeylambda: statistic=0.5743805760906783, pvalue=0.010282635483927405\n",
      "kappa3: statistic=0.5746234269045603, pvalue=0.010234211476625512\n",
      "argus: statistic=0.584884554245192, pvalue=0.008359128423249937\n",
      "skewnorm: statistic=0.5993186272795841, pvalue=0.006228008569020341\n",
      "foldnorm: statistic=0.5993431481229293, pvalue=0.006224836754508505\n",
      "halfnorm: statistic=0.5993912124980397, pvalue=0.006218623654082167\n",
      "triang: statistic=0.6098480379465477, pvalue=0.004989839179906586\n",
      "bradford: statistic=0.6371583209751903, pvalue=0.002734311461932881\n",
      "vonmises: statistic=0.6412728868548344, pvalue=0.0024892036730010734\n",
      "invweibull: statistic=0.6435031292348757, pvalue=0.0023647997679782516\n",
      "truncexpon: statistic=0.6479962537102968, pvalue=0.0021310619574095406\n",
      "kappa4: statistic=0.7114911149251829, pvalue=0.00042787257133746306\n",
      "uniform: statistic=0.7305605786618444, pvalue=0.0002482601889470382\n",
      "ksone: statistic=0.7345078694130919, pvalue=0.0002209273007950503\n",
      "genhalflogistic: statistic=0.7489688710764187, pvalue=0.00014243934401422803\n",
      "beta: statistic=0.7901846921274179, pvalue=3.679755089597349e-05\n",
      "trapz: statistic=0.8198995573467062, pvalue=1.2322940831680465e-05\n",
      "anglit: statistic=0.8571428571428571, pvalue=2.4285313578040306e-06\n",
      "rdist: statistic=0.8571428571428571, pvalue=2.4285313578040306e-06\n",
      "semicircular: statistic=0.8571428571428571, pvalue=2.4285313578040306e-06\n",
      "truncnorm: statistic=0.8571428571428571, pvalue=2.4285313578040306e-06\n",
      "loguniform: statistic=1.0, pvalue=0.0\n",
      "powernorm: statistic=1.0, pvalue=0.0\n",
      "reciprocal: statistic=1.0, pvalue=0.0\n",
      "wrapcauchy: statistic=nan, pvalue=nan\n"
     ]
    }
   ],
   "source": [
    "import warnings\n",
    "warnings.filterwarnings(\"ignore\")\n",
    "e=[]\n",
    "y=np.array(nac_motiv.probabilidad,dtype=float)\n",
    "\n",
    "for dist_name in dist_to: \n",
    "    dist=getattr(st,dist_name)  \n",
    "    param =dist.fit(y)\n",
    "    a=st.kstest(y,dist_name,args=param)#K-S test based on p-values\n",
    "    e.append((dist_name,a[0],a[1]))\n",
    "\n",
    "e.sort(key=lambda x:float(x[2]),reverse=True)#sort by p-values\n",
    "for j in e:\n",
    "    print(\"{}: statistic={}, pvalue={}\".format(j[0], j[1], j[2]))"
   ]
  },
  {
   "cell_type": "markdown",
   "metadata": {},
   "source": [
    "La distribucón que mejor se ajusta a la distribución de probabilidades de la motivación del viaje de los turistas nacionales es `genpareto`"
   ]
  },
  {
   "cell_type": "code",
   "execution_count": 60,
   "metadata": {},
   "outputs": [
    {
     "data": {
      "image/png": "[encoded data removed]",
      "text/plain": [
       "<Figure size 432x288 with 1 Axes>"
      ]
     },
     "metadata": {
      "needs_background": "light"
     },
     "output_type": "display_data"
    }
   ],
   "source": [
    "dist='genpareto'\n",
    "datos=np.array(nac_motiv.probabilidad,dtype=float)\n",
    "parametros=getattr(st, dist).fit(datos)\n",
    "\n",
    "plt.bar(nac_motiv.AMG,nac_motiv.probabilidad, label='Histograma de probabilidades')\n",
    "\n",
    "x = np.linspace(0,6,10)\n",
    "y = st.genpareto.pdf(x,parametros[0],parametros[1])\n",
    "\n",
    "pdf = st.genpareto.pdf(x,1,1,1)\n",
    "plt.plot(x,y,'r-',label='Fitted')\n",
    "plt.plot(x,pdf,label='pdf estimada',color='g')\n",
    "plt.legend()\n",
    "plt.show()"
   ]
  },
  {
   "cell_type": "code",
   "execution_count": 61,
   "metadata": {},
   "outputs": [
    {
     "data": {
      "image/png": "[encoded data removed]",
      "text/plain": [
       "<Figure size 432x288 with 1 Axes>"
      ]
     },
     "metadata": {
      "needs_background": "light"
     },
     "output_type": "display_data"
    },
    {
     "name": "stdout",
     "output_type": "stream",
     "text": [
      "media muestral =2.700000, desviación estándar muestral =1.723369\n",
      "media real =0.137755, desviación real muestral =0.252619\n"
     ]
    }
   ],
   "source": [
    "J = 10  # Cantidad de particiones del histograma\n",
    "[freqs,xs,p]=plt.hist(nac_motiv.AMG,J,density=True)\n",
    "plt.show()\n",
    "# Se obvia el último valor de x para obtener exactamente J muestras de x\n",
    "xs = xs[:-1] \n",
    "\n",
    "# Media y desviación estándar muestral\n",
    "mus = np.mean(xs)\n",
    "sigmas = np.std(xs)\n",
    "print('media muestral =%f, desviación estándar muestral =%f'%(mus,sigmas))\n",
    "print('media real =%f, desviación real muestral =%f'%((nac_motiv.probabilidad).mean(),(nac_motiv.probabilidad).std()))"
   ]
  },
  {
   "cell_type": "markdown",
   "metadata": {},
   "source": [
    "Haremos prueba del chi cuadrado para obtener los estadistícos.\n"
   ]
  },
  {
   "cell_type": "code",
   "execution_count": 62,
   "metadata": {},
   "outputs": [
    {
     "name": "stdout",
     "output_type": "stream",
     "text": [
      "Valor de chi cuadrado librería =  Power_divergenceResult(statistic=inf, pvalue=0.0)\n",
      "Estadístico de chi_cuadrado =  12.591587243743977\n",
      "Media muestral = 2.700000 \n",
      "Desviación estándar muestral =1.723369 \n"
     ]
    }
   ],
   "source": [
    "dist='genpareto'\n",
    "datos=np.array(nac_motiv.probabilidad,dtype=float)\n",
    "parametros=getattr(st, dist).fit(datos)\n",
    "pi = st.genpareto.pdf(xs, parametros[0],parametros[1])\n",
    "\n",
    "# Cálculo de la esperanza usando la expresión teórica\n",
    "Ei = xs*pi\n",
    "\n",
    "# Cálculo usando la librería estadística de la chi cuadrada\n",
    "Xs = st.chisquare(freqs,Ei)\n",
    "print('Valor de chi cuadrado librería = ',Xs)\n",
    "\n",
    "# Cálculo de Grados de libertad del estadístico\n",
    "p = 3 # Parámetros estimados con los datos\n",
    "m = J-p-1 # grados de libertad\n",
    "\n",
    "Chi_est2 = st.chi2.ppf(q = 0.95,df=m)\n",
    "print('Estadístico de chi_cuadrado = ',Chi_est2)\n",
    "print('Media muestral = %f \\nDesviación estándar muestral =%f '%(mus,sigmas))"
   ]
  },
  {
   "cell_type": "markdown",
   "metadata": {},
   "source": [
    "### Internacional"
   ]
  },
  {
   "cell_type": "code",
   "execution_count": 63,
   "metadata": {},
   "outputs": [
    {
     "data": {
      "text/html": [
       "<div>\n",
       "<style scoped>\n",
       "    .dataframe tbody tr th:only-of-type {\n",
       "        vertical-align: middle;\n",
       "    }\n",
       "\n",
       "    .dataframe tbody tr th {\n",
       "        vertical-align: top;\n",
       "    }\n",
       "\n",
       "    .dataframe thead th {\n",
       "        text-align: right;\n",
       "    }\n",
       "</style>\n",
       "<table border=\"1\" class=\"dataframe\">\n",
       "  <thead>\n",
       "    <tr style=\"text-align: right;\">\n",
       "      <th></th>\n",
       "      <th>AMG</th>\n",
       "      <th>probabilidad</th>\n",
       "    </tr>\n",
       "  </thead>\n",
       "  <tbody>\n",
       "    <tr>\n",
       "      <th>33</th>\n",
       "      <td>COMPRAS</td>\n",
       "      <td>0.00952381</td>\n",
       "    </tr>\n",
       "    <tr>\n",
       "      <th>34</th>\n",
       "      <td>DE PASO</td>\n",
       "      <td>0.00952381</td>\n",
       "    </tr>\n",
       "    <tr>\n",
       "      <th>35</th>\n",
       "      <td>OCIO Y RECREACION</td>\n",
       "      <td>0.733333</td>\n",
       "    </tr>\n",
       "    <tr>\n",
       "      <th>36</th>\n",
       "      <td>PROFESIONAL O NEGOCIOS</td>\n",
       "      <td>0.0761905</td>\n",
       "    </tr>\n",
       "    <tr>\n",
       "      <th>37</th>\n",
       "      <td>SALUD</td>\n",
       "      <td>0</td>\n",
       "    </tr>\n",
       "    <tr>\n",
       "      <th>38</th>\n",
       "      <td>VISITAR AMIGOS Y FAMILIARES</td>\n",
       "      <td>0.0857143</td>\n",
       "    </tr>\n",
       "    <tr>\n",
       "      <th>39</th>\n",
       "      <td>RELIGIOSO</td>\n",
       "      <td>0</td>\n",
       "    </tr>\n",
       "  </tbody>\n",
       "</table>\n",
       "</div>"
      ],
      "text/plain": [
       "                            AMG probabilidad\n",
       "33                      COMPRAS   0.00952381\n",
       "34                      DE PASO   0.00952381\n",
       "35            OCIO Y RECREACION     0.733333\n",
       "36       PROFESIONAL O NEGOCIOS    0.0761905\n",
       "37                        SALUD            0\n",
       "38  VISITAR AMIGOS Y FAMILIARES    0.0857143\n",
       "39                    RELIGIOSO            0"
      ]
     },
     "execution_count": 63,
     "metadata": {},
     "output_type": "execute_result"
    }
   ],
   "source": [
    "int_motiv"
   ]
  },
  {
   "cell_type": "code",
   "execution_count": 66,
   "metadata": {},
   "outputs": [
    {
     "data": {
      "image/png": "[encoded data removed]",
      "text/plain": [
       "<Figure size 432x288 with 1 Axes>"
      ]
     },
     "metadata": {
      "needs_background": "light"
     },
     "output_type": "display_data"
    }
   ],
   "source": [
    "plt.bar(int_motiv.AMG,int_motiv.probabilidad, label='Histograma de probabilidades')\n",
    "plt.xlabel('Motivación del viaje')\n",
    "plt.ylabel('Probabilidad')\n",
    "plt.title('Histograma de probabilides motivación del TURISTA INTERNACIONAL')\n",
    "plt.legend()\n",
    "plt.show()"
   ]
  },
  {
   "cell_type": "code",
   "execution_count": 55,
   "metadata": {},
   "outputs": [
    {
     "name": "stdout",
     "output_type": "stream",
     "text": [
      "ncf: statistic=0.28558079895293526, pvalue=0.5261029620199562\n",
      "powerlaw: statistic=0.2857093369461726, pvalue=0.525558770063596\n",
      "exponpow: statistic=0.2857140635306529, pvalue=0.5255387688122249\n",
      "nakagami: statistic=0.285714204728257, pvalue=0.525538171323993\n",
      "chi: statistic=0.28571423229481935, pvalue=0.5255380546740926\n",
      "mielke: statistic=0.2857142757548618, pvalue=0.5255378707698306\n",
      "gamma: statistic=0.2857142797637492, pvalue=0.5255378538059412\n",
      "burr: statistic=0.28571428555193895, pvalue=0.5255378293128095\n",
      "gausshyper: statistic=0.285714285557181, pvalue=0.5255378292906273\n",
      "gengamma: statistic=0.2857142857142721, pvalue=0.5255378286258852\n",
      "halfgennorm: statistic=0.2857142857142851, pvalue=0.5255378286258305\n",
      "alpha: statistic=0.29458724874587905, pvalue=0.4884230681560785\n",
      "halfcauchy: statistic=0.30404128554607635, pvalue=0.4499916012372579\n",
      "pearson3: statistic=0.31405704078536867, pvalue=0.41078566312314624\n",
      "norminvgauss: statistic=0.31541081505363033, pvalue=0.4056184993818118\n",
      "t: statistic=0.3172777244725702, pvalue=0.398547243520593\n",
      "fisk: statistic=0.31800795202261, pvalue=0.39579880628784114\n",
      "invgauss: statistic=0.32716838188249087, pvalue=0.3621862680132283\n",
      "erlang: statistic=0.33555041011996045, pvalue=0.3329069865325034\n",
      "moyal: statistic=0.3371175735713434, pvalue=0.32759623232948876\n",
      "levy: statistic=0.33892418189136586, pvalue=0.32153934458210276\n",
      "loglaplace: statistic=0.3400509192602722, pvalue=0.3177974654692738\n",
      "vonmises_line: statistic=0.34415753780005015, pvalue=0.30439358126224336\n",
      "gumbel_r: statistic=0.34633839279486756, pvalue=0.29742610092547994\n",
      "frechet_l: statistic=0.34639808608397016, pvalue=0.29723687146558553\n",
      "weibull_max: statistic=0.34639808608397016, pvalue=0.29723687146558553\n",
      "genlogistic: statistic=0.3465282374724201, pvalue=0.29682456203839136\n",
      "logistic: statistic=0.34766592159625803, pvalue=0.29323649779331007\n",
      "gilbrat: statistic=0.348205717704289, pvalue=0.2915441517662818\n",
      "recipinvgauss: statistic=0.3517330910726476, pvalue=0.28064568211609575\n",
      "hypsecant: statistic=0.3608267111566687, pvalue=0.2538430947668656\n",
      "dgamma: statistic=0.3691238855567529, pvalue=0.2310258318457612\n",
      "cauchy: statistic=0.3733890250921037, pvalue=0.21990478510706568\n",
      "powerlognorm: statistic=0.37705922039708395, pvalue=0.2106637268956385\n",
      "frechet_r: statistic=0.3782942734460019, pvalue=0.20762204474706336\n",
      "weibull_min: statistic=0.3782942734460019, pvalue=0.20762204474706336\n",
      "foldcauchy: statistic=0.37990845656838346, pvalue=0.2036980333900844\n",
      "wald: statistic=0.3829163004410128, pvalue=0.19654065101652884\n",
      "genextreme: statistic=0.3917011075580865, pvalue=0.17677183561918408\n",
      "dweibull: statistic=0.39368860904115366, pvalue=0.17252970128337963\n",
      "crystalball: statistic=0.42887874048538677, pvalue=0.11017393674993115\n",
      "norm: statistic=0.42887879253799965, pvalue=0.11017386035292775\n",
      "loggamma: statistic=0.4306412592511241, pvalue=0.10761004700729593\n",
      "gumbel_l: statistic=0.43089080614587083, pvalue=0.10725073296865428\n",
      "maxwell: statistic=0.44994256229883095, pvalue=0.08242651838750548\n",
      "exponweib: statistic=0.4530602652104868, pvalue=0.0788338600244416\n",
      "kappa3: statistic=0.4539345394677212, pvalue=0.07784901502482244\n",
      "lognorm: statistic=0.4551487019110707, pvalue=0.07649754255699004\n",
      "laplace: statistic=0.46374706321793285, pvalue=0.06745451366927435\n",
      "rice: statistic=0.47111446737765594, pvalue=0.06041252352105353\n",
      "rayleigh: statistic=0.47116180468112445, pvalue=0.060369302436933836\n",
      "levy_l: statistic=0.47600444495289684, pvalue=0.05608007622752309\n",
      "exponnorm: statistic=0.5001832292879879, pvalue=0.03827754910746159\n",
      "genexpon: statistic=0.501073940190069, pvalue=0.037726583162863016\n",
      "expon: statistic=0.5011068714180699, pvalue=0.03770634420357866\n",
      "cosine: statistic=0.5075769655739135, pvalue=0.0339068551692715\n",
      "gennorm: statistic=0.519331236698292, pvalue=0.02784701781124141\n",
      "chi2: statistic=0.5231338543195583, pvalue=0.0261003284327068\n",
      "halflogistic: statistic=0.5291770477762597, pvalue=0.02352120643764122\n",
      "lomax: statistic=0.5631340727458701, pvalue=0.012750234677847916\n",
      "arcsine: statistic=0.5651109736690845, pvalue=0.012283221928561058\n",
      "tukeylambda: statistic=0.5714049579658708, pvalue=0.010892060990476505\n",
      "argus: statistic=0.5794070080862533, pvalue=0.009319420207996159\n",
      "gompertz: statistic=0.5806983982317699, pvalue=0.00908485649470442\n",
      "ncx2: statistic=0.5813854307071353, pvalue=0.008962151058016147\n",
      "triang: statistic=0.6015869152291579, pvalue=0.005940535338563499\n",
      "halfnorm: statistic=0.6153168604639901, pvalue=0.0044371061117377975\n",
      "foldnorm: statistic=0.6171435810542764, pvalue=0.004265008375016292\n",
      "skewnorm: statistic=0.6171458703821493, pvalue=0.00426479647930155\n",
      "vonmises: statistic=0.6416142258692249, pvalue=0.0024697888318148645\n",
      "bradford: statistic=0.6521220762522226, pvalue=0.0019350233335466433\n",
      "truncexpon: statistic=0.6628349118752654, pvalue=0.0014996214260023124\n",
      "f: statistic=0.6960831736657235, pvalue=0.0006491350761449906\n",
      "invgamma: statistic=0.6964319487098731, pvalue=0.0006431812659265954\n",
      "johnsonsb: statistic=0.7015905565766751, pvalue=0.0005605781981370628\n",
      "johnsonsu: statistic=0.7018754079595458, pvalue=0.0005563033101376263\n",
      "invweibull: statistic=0.7023551274568666, pvalue=0.0005491689846509061\n",
      "pareto: statistic=0.7135766183027372, pvalue=0.00040376749966008807\n",
      "genpareto: statistic=0.714130174891456, pvalue=0.0003975752661027092\n",
      "nct: statistic=0.7142362248050662, pvalue=0.00039639863911006013\n",
      "kappa4: statistic=0.7219754348676469, pvalue=0.0003184529922140272\n",
      "uniform: statistic=0.7402597402597402, pvalue=0.00018594171366305198\n",
      "ksone: statistic=0.7439044823659894, pvalue=0.00016645072897607783\n",
      "genhalflogistic: statistic=0.7541127460844759, pvalue=0.0001213165579947143\n",
      "beta: statistic=0.7926870749126376, pvalue=3.371237066969212e-05\n",
      "trapz: statistic=0.82295388661663, pvalue=1.0923628754752126e-05\n",
      "loguniform: statistic=0.8571428571428571, pvalue=2.4285313578040306e-06\n",
      "reciprocal: statistic=0.8571428571428571, pvalue=2.4285313578040306e-06\n",
      "semicircular: statistic=0.8571428571428571, pvalue=2.4285313578040306e-06\n",
      "anglit: statistic=0.9914886336325913, pvalue=6.471798544048356e-15\n",
      "rdist: statistic=0.9999999992072898, pvalue=3.9339717651275674e-64\n",
      "geninvgauss: statistic=1.0002727523539996, pvalue=0.0\n",
      "powernorm: statistic=1.0, pvalue=0.0\n",
      "truncnorm: statistic=1.0, pvalue=0.0\n",
      "wrapcauchy: statistic=nan, pvalue=nan\n"
     ]
    }
   ],
   "source": [
    "import warnings\n",
    "warnings.filterwarnings(\"ignore\")\n",
    "e=[]\n",
    "y=np.array(int_motiv.probabilidad,dtype=float)\n",
    "\n",
    "for dist_name in dist_to: \n",
    "    dist=getattr(st,dist_name)  \n",
    "    param =dist.fit(y)\n",
    "    a=st.kstest(y,dist_name,args=param)#K-S test based on p-values\n",
    "    e.append((dist_name,a[0],a[1]))\n",
    "\n",
    "e.sort(key=lambda x:float(x[2]),reverse=True)#sort by p-values\n",
    "for j in e:\n",
    "    print(\"{}: statistic={}, pvalue={}\".format(j[0], j[1], j[2]))"
   ]
  },
  {
   "cell_type": "markdown",
   "metadata": {},
   "source": [
    "La distribucón que mejor se ajusta a la distribución de probabilidades de la motivación del viaje de los turistas nacionales es `ncf`"
   ]
  },
  {
   "cell_type": "code",
   "execution_count": 68,
   "metadata": {},
   "outputs": [
    {
     "data": {
      "image/png": "[encoded data removed]",
      "text/plain": [
       "<Figure size 432x288 with 1 Axes>"
      ]
     },
     "metadata": {
      "needs_background": "light"
     },
     "output_type": "display_data"
    }
   ],
   "source": [
    " dist='ncf'\n",
    "datos=np.array(int_motiv.probabilidad,dtype=float)\n",
    "parametros=getattr(st, dist).fit(datos)\n",
    "\n",
    "plt.bar(int_motiv.AMG,int_motiv.probabilidad, label='Histograma de probabilidades')\n",
    "\n",
    "x = np.linspace(0,6,10)\n",
    "y = st.ncf.pdf(x,parametros[0],parametros[1],parametros[2],parametros[3])\n",
    "\n",
    "pdf = st.ncf.pdf(x,1,1,1,1)\n",
    "plt.plot(x,y,'r-',label='Fitted')\n",
    "plt.plot(x,pdf,label='pdf estimada',color='g')\n",
    "plt.legend()\n",
    "plt.show()"
   ]
  },
  {
   "cell_type": "code",
   "execution_count": 69,
   "metadata": {},
   "outputs": [
    {
     "data": {
      "image/png": "[encoded data removed]",
      "text/plain": [
       "<Figure size 432x288 with 1 Axes>"
      ]
     },
     "metadata": {
      "needs_background": "light"
     },
     "output_type": "display_data"
    },
    {
     "name": "stdout",
     "output_type": "stream",
     "text": [
      "media muestral =2.700000, desviación estándar muestral =1.723369\n",
      "media real =0.130612, desviación real muestral =0.268233\n"
     ]
    }
   ],
   "source": [
    "J = 10  # Cantidad de particiones del histograma\n",
    "[freqs,xs,p]=plt.hist(int_motiv.AMG,J,density=True)\n",
    "plt.show()\n",
    "# Se obvia el último valor de x para obtener exactamente J muestras de x\n",
    "xs = xs[:-1] \n",
    "\n",
    "# Media y desviación estándar muestral\n",
    "mus = np.mean(xs)\n",
    "sigmas = np.std(xs)\n",
    "print('media muestral =%f, desviación estándar muestral =%f'%(mus,sigmas))\n",
    "print('media real =%f, desviación real muestral =%f'%((int_motiv.probabilidad).mean(),(int_motiv.probabilidad).std()))"
   ]
  },
  {
   "cell_type": "markdown",
   "metadata": {},
   "source": [
    "Haremos prueba del chi cuadrado para obtener los estadistícos.\n"
   ]
  },
  {
   "cell_type": "code",
   "execution_count": 70,
   "metadata": {},
   "outputs": [
    {
     "name": "stdout",
     "output_type": "stream",
     "text": [
      "Valor de chi cuadrado librería =  Power_divergenceResult(statistic=nan, pvalue=nan)\n",
      "Estadístico de chi_cuadrado =  12.591587243743977\n",
      "Media muestral = 2.700000 \n",
      "Desviación estándar muestral =1.723369 \n"
     ]
    }
   ],
   "source": [
    "dist='ncf'\n",
    "datos=np.array(int_motiv.probabilidad,dtype=float)\n",
    "parametros=getattr(st, dist).fit(datos)\n",
    "pi = st.ncf.pdf(xs, parametros[0],parametros[1],parametros[2],parametros[3])\n",
    "\n",
    "# Cálculo de la esperanza usando la expresión teórica\n",
    "Ei = xs*pi\n",
    "\n",
    "# Cálculo usando la librería estadística de la chi cuadrada\n",
    "Xs = st.chisquare(freqs,Ei)\n",
    "print('Valor de chi cuadrado librería = ',Xs)\n",
    "\n",
    "# Cálculo de Grados de libertad del estadístico\n",
    "p = 3 # Parámetros estimados con los datos\n",
    "m = J-p-1 # grados de libertad\n",
    "\n",
    "Chi_est2 = st.chi2.ppf(q = 0.95,df=m)\n",
    "print('Estadístico de chi_cuadrado = ',Chi_est2)\n",
    "print('Media muestral = %f \\nDesviación estándar muestral =%f '%(mus,sigmas))"
   ]
  },
  {
   "cell_type": "markdown",
   "metadata": {},
   "source": [
    "Conclusiones: \n",
    "\n",
    "Con este proyecto entendí sobretodo que el Kernel Density Estimation no es tan sencillo de calcular y sobretodo cuando son pocos datos para calcular. Una de las cosas que más se nos dificultaron fue el hecho de tener variables cualitativas en nuestra segmentación por lo que teniamos que estar cambiando a cuantitativas para algunos calculos. Aunque ajustamos nuestros nodos a distribuciones no pudimos realizar pruebas de hipótesis y estas es muy probable que den negativas debido a la poca cantidad de barras que tenian nuestros histogramas y que por ser cualitativos más bien haciamos graficos de barras. \n",
    "\n",
    "A veces, menos no es más fácil. "
   ]
  },
  {
   "cell_type": "markdown",
   "metadata": {},
   "source": [
    "### 1.7 Referencias.\n",
    "> https://secturjal.jalisco.gob.mx/invierte-en-jalisco/estadisticas\n",
    "> Citar (en formato APA) la bibliografía utilizada."
   ]
  }
 ],
 "metadata": {
  "kernelspec": {
   "display_name": "Python 3",
   "language": "python",
   "name": "python3"
  },
  "language_info": {
   "codemirror_mode": {
    "name": "ipython",
    "version": 3
   },
   "file_extension": ".py",
   "mimetype": "text/x-python",
   "name": "python",
   "nbconvert_exporter": "python",
   "pygments_lexer": "ipython3",
   "version": "3.8.5"
  }
 },
 "nbformat": 4,
 "nbformat_minor": 4
}
